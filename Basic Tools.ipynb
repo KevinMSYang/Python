{
 "cells": [
  {
   "cell_type": "markdown",
   "metadata": {},
   "source": [
    "Courses: CS 5623 \n",
    "Homework 02: Basic Tools 1\n",
    "> Student: Kevin Yang\n",
    ">> ID: 50541650"
   ]
  },
  {
   "cell_type": "code",
   "execution_count": 9,
   "metadata": {},
   "outputs": [],
   "source": [
    "# Import the necessary libraries\n",
    "import numpy as np\n",
    "import pandas as pd\n",
    "import seaborn as sb\n",
    "from matplotlib import pyplot as plt\n",
    "from collections import Counter\n",
    "\n",
    "%matplotlib inline"
   ]
  },
  {
   "cell_type": "code",
   "execution_count": 10,
   "metadata": {},
   "outputs": [],
   "source": [
    "# Load the dat into a Pandas DataFrame\n",
    "df = pd.read_csv('go_track_tracks.csv', sep = ',')"
   ]
  },
  {
   "cell_type": "code",
   "execution_count": 11,
   "metadata": {
    "scrolled": true
   },
   "outputs": [
    {
     "name": "stdout",
     "output_type": "stream",
     "text": [
      "<class 'pandas.core.frame.DataFrame'>\n",
      "RangeIndex: 163 entries, 0 to 162\n",
      "Data columns (total 10 columns):\n",
      "id                163 non-null int64\n",
      "id_android        163 non-null int64\n",
      "speed             163 non-null float64\n",
      "time              163 non-null float64\n",
      "distance          163 non-null float64\n",
      "rating            163 non-null int64\n",
      "rating_bus        163 non-null int64\n",
      "rating_weather    163 non-null int64\n",
      "car_or_bus        163 non-null int64\n",
      "linha             80 non-null object\n",
      "dtypes: float64(3), int64(6), object(1)\n",
      "memory usage: 12.8+ KB\n"
     ]
    }
   ],
   "source": [
    "# Show a summary of the data values \n",
    "df.info()"
   ]
  },
  {
   "cell_type": "code",
   "execution_count": 12,
   "metadata": {},
   "outputs": [
    {
     "ename": "AttributeError",
     "evalue": "'DataFrame' object has no attribute 'table'",
     "output_type": "error",
     "traceback": [
      "\u001b[0;31m---------------------------------------------------------------------------\u001b[0m",
      "\u001b[0;31mAttributeError\u001b[0m                            Traceback (most recent call last)",
      "\u001b[0;32m<ipython-input-12-5f634dbe1fa1>\u001b[0m in \u001b[0;36m<module>\u001b[0;34m()\u001b[0m\n\u001b[0;32m----> 1\u001b[0;31m \u001b[0mdf\u001b[0m\u001b[0;34m.\u001b[0m\u001b[0mtable\u001b[0m\u001b[0;34m(\u001b[0m\u001b[0;34m)\u001b[0m\u001b[0;34m\u001b[0m\u001b[0m\n\u001b[0m",
      "\u001b[0;32m~/anaconda3/lib/python3.6/site-packages/pandas/core/generic.py\u001b[0m in \u001b[0;36m__getattr__\u001b[0;34m(self, name)\u001b[0m\n\u001b[1;32m   4370\u001b[0m             \u001b[0;32mif\u001b[0m \u001b[0mself\u001b[0m\u001b[0;34m.\u001b[0m\u001b[0m_info_axis\u001b[0m\u001b[0;34m.\u001b[0m\u001b[0m_can_hold_identifiers_and_holds_name\u001b[0m\u001b[0;34m(\u001b[0m\u001b[0mname\u001b[0m\u001b[0;34m)\u001b[0m\u001b[0;34m:\u001b[0m\u001b[0;34m\u001b[0m\u001b[0m\n\u001b[1;32m   4371\u001b[0m                 \u001b[0;32mreturn\u001b[0m \u001b[0mself\u001b[0m\u001b[0;34m[\u001b[0m\u001b[0mname\u001b[0m\u001b[0;34m]\u001b[0m\u001b[0;34m\u001b[0m\u001b[0m\n\u001b[0;32m-> 4372\u001b[0;31m             \u001b[0;32mreturn\u001b[0m \u001b[0mobject\u001b[0m\u001b[0;34m.\u001b[0m\u001b[0m__getattribute__\u001b[0m\u001b[0;34m(\u001b[0m\u001b[0mself\u001b[0m\u001b[0;34m,\u001b[0m \u001b[0mname\u001b[0m\u001b[0;34m)\u001b[0m\u001b[0;34m\u001b[0m\u001b[0m\n\u001b[0m\u001b[1;32m   4373\u001b[0m \u001b[0;34m\u001b[0m\u001b[0m\n\u001b[1;32m   4374\u001b[0m     \u001b[0;32mdef\u001b[0m \u001b[0m__setattr__\u001b[0m\u001b[0;34m(\u001b[0m\u001b[0mself\u001b[0m\u001b[0;34m,\u001b[0m \u001b[0mname\u001b[0m\u001b[0;34m,\u001b[0m \u001b[0mvalue\u001b[0m\u001b[0;34m)\u001b[0m\u001b[0;34m:\u001b[0m\u001b[0;34m\u001b[0m\u001b[0m\n",
      "\u001b[0;31mAttributeError\u001b[0m: 'DataFrame' object has no attribute 'table'"
     ]
    }
   ],
   "source": [
    "df.table()"
   ]
  },
  {
   "cell_type": "markdown",
   "metadata": {},
   "source": [
    "Based on the information aboove, we know that there are 10 attributes and each attribute has\n",
    "163 instances. \n",
    "\n",
    "According to the attribute information:\n",
    "1. go_track_tracks.csv : a list of trajectories\n",
    "2. id_android: it represents the device used to capture the instance\n",
    "3. speed: it represents the average speed (Km/H)\n",
    "4. distance: it represent the total distance (Km)\n",
    "5. rating: it is an evaluation parameter. Evaluation the traffic is a way to verify the 6. volunteers perception about the traffic during the travel, in orther words, if volunteers move to some place and face traffic jam, maybe they will evaluate 'bad'. (3:good, 2:normal, 1:bad).\n",
    "6. rating_bus: it is other evaluation parameter. (1: the amount of people inside the bus is little, 2: the bus is not crowded, 3: the bus is crowded)\n",
    "7. rating_weather: it is another evaluation parameter (2: sunny, 1: raining)\n",
    "8. car_or_bus: (1: car, 2: bus)\n",
    "9. linha: information about the bus that does the pathway"
   ]
  },
  {
   "cell_type": "code",
   "execution_count": 45,
   "metadata": {},
   "outputs": [
    {
     "data": {
      "text/plain": [
       "10"
      ]
     },
     "execution_count": 45,
     "metadata": {},
     "output_type": "execute_result"
    }
   ],
   "source": [
    "# How many rows?\n",
    "df.shape[1]"
   ]
  },
  {
   "cell_type": "code",
   "execution_count": 6,
   "metadata": {},
   "outputs": [
    {
     "name": "stdout",
     "output_type": "stream",
     "text": [
      "Index(['id', 'id_android', 'speed', 'time', 'distance', 'rating', 'rating_bus',\n",
      "       'rating_weather', 'car_or_bus', 'linha'],\n",
      "      dtype='object')\n"
     ]
    }
   ],
   "source": [
    "# What does each row represent?\n",
    "df_columns = df.columns\n",
    "print(df_columns)"
   ]
  },
  {
   "cell_type": "code",
   "execution_count": 27,
   "metadata": {},
   "outputs": [
    {
     "data": {
      "text/plain": [
       "163"
      ]
     },
     "execution_count": 27,
     "metadata": {},
     "output_type": "execute_result"
    }
   ],
   "source": [
    "# How many columns?\n",
    "df.shape[0]"
   ]
  },
  {
   "cell_type": "code",
   "execution_count": 5,
   "metadata": {
    "scrolled": true
   },
   "outputs": [
    {
     "data": {
      "text/html": [
       "<div>\n",
       "<style scoped>\n",
       "    .dataframe tbody tr th:only-of-type {\n",
       "        vertical-align: middle;\n",
       "    }\n",
       "\n",
       "    .dataframe tbody tr th {\n",
       "        vertical-align: top;\n",
       "    }\n",
       "\n",
       "    .dataframe thead th {\n",
       "        text-align: right;\n",
       "    }\n",
       "</style>\n",
       "<table border=\"1\" class=\"dataframe\">\n",
       "  <thead>\n",
       "    <tr style=\"text-align: right;\">\n",
       "      <th></th>\n",
       "      <th>count</th>\n",
       "      <th>mean</th>\n",
       "      <th>std</th>\n",
       "      <th>min</th>\n",
       "      <th>25%</th>\n",
       "      <th>50%</th>\n",
       "      <th>75%</th>\n",
       "      <th>max</th>\n",
       "    </tr>\n",
       "  </thead>\n",
       "  <tbody>\n",
       "    <tr>\n",
       "      <th>id</th>\n",
       "      <td>163.0</td>\n",
       "      <td>15607.650307</td>\n",
       "      <td>18644.257138</td>\n",
       "      <td>1.000000</td>\n",
       "      <td>48.500000</td>\n",
       "      <td>158.000000</td>\n",
       "      <td>37991.000000</td>\n",
       "      <td>38092.000000</td>\n",
       "    </tr>\n",
       "    <tr>\n",
       "      <th>id_android</th>\n",
       "      <td>163.0</td>\n",
       "      <td>7.386503</td>\n",
       "      <td>7.348742</td>\n",
       "      <td>0.000000</td>\n",
       "      <td>1.000000</td>\n",
       "      <td>4.000000</td>\n",
       "      <td>10.000000</td>\n",
       "      <td>27.000000</td>\n",
       "    </tr>\n",
       "    <tr>\n",
       "      <th>speed</th>\n",
       "      <td>163.0</td>\n",
       "      <td>16.704738</td>\n",
       "      <td>16.016168</td>\n",
       "      <td>0.009779</td>\n",
       "      <td>1.591016</td>\n",
       "      <td>16.685368</td>\n",
       "      <td>23.915760</td>\n",
       "      <td>96.206029</td>\n",
       "    </tr>\n",
       "    <tr>\n",
       "      <th>time</th>\n",
       "      <td>163.0</td>\n",
       "      <td>0.264272</td>\n",
       "      <td>0.292731</td>\n",
       "      <td>0.002175</td>\n",
       "      <td>0.035978</td>\n",
       "      <td>0.214466</td>\n",
       "      <td>0.390572</td>\n",
       "      <td>1.942948</td>\n",
       "    </tr>\n",
       "    <tr>\n",
       "      <th>distance</th>\n",
       "      <td>163.0</td>\n",
       "      <td>5.302411</td>\n",
       "      <td>7.639011</td>\n",
       "      <td>0.001000</td>\n",
       "      <td>0.034500</td>\n",
       "      <td>3.995000</td>\n",
       "      <td>7.333000</td>\n",
       "      <td>55.770000</td>\n",
       "    </tr>\n",
       "    <tr>\n",
       "      <th>rating</th>\n",
       "      <td>163.0</td>\n",
       "      <td>2.515337</td>\n",
       "      <td>0.679105</td>\n",
       "      <td>1.000000</td>\n",
       "      <td>2.000000</td>\n",
       "      <td>3.000000</td>\n",
       "      <td>3.000000</td>\n",
       "      <td>3.000000</td>\n",
       "    </tr>\n",
       "    <tr>\n",
       "      <th>rating_bus</th>\n",
       "      <td>163.0</td>\n",
       "      <td>0.386503</td>\n",
       "      <td>0.687859</td>\n",
       "      <td>0.000000</td>\n",
       "      <td>0.000000</td>\n",
       "      <td>0.000000</td>\n",
       "      <td>1.000000</td>\n",
       "      <td>3.000000</td>\n",
       "    </tr>\n",
       "    <tr>\n",
       "      <th>rating_weather</th>\n",
       "      <td>163.0</td>\n",
       "      <td>0.515337</td>\n",
       "      <td>0.841485</td>\n",
       "      <td>0.000000</td>\n",
       "      <td>0.000000</td>\n",
       "      <td>0.000000</td>\n",
       "      <td>1.000000</td>\n",
       "      <td>2.000000</td>\n",
       "    </tr>\n",
       "    <tr>\n",
       "      <th>car_or_bus</th>\n",
       "      <td>163.0</td>\n",
       "      <td>1.466258</td>\n",
       "      <td>0.500397</td>\n",
       "      <td>1.000000</td>\n",
       "      <td>1.000000</td>\n",
       "      <td>1.000000</td>\n",
       "      <td>2.000000</td>\n",
       "      <td>2.000000</td>\n",
       "    </tr>\n",
       "  </tbody>\n",
       "</table>\n",
       "</div>"
      ],
      "text/plain": [
       "                count          mean           std       min        25%  \\\n",
       "id              163.0  15607.650307  18644.257138  1.000000  48.500000   \n",
       "id_android      163.0      7.386503      7.348742  0.000000   1.000000   \n",
       "speed           163.0     16.704738     16.016168  0.009779   1.591016   \n",
       "time            163.0      0.264272      0.292731  0.002175   0.035978   \n",
       "distance        163.0      5.302411      7.639011  0.001000   0.034500   \n",
       "rating          163.0      2.515337      0.679105  1.000000   2.000000   \n",
       "rating_bus      163.0      0.386503      0.687859  0.000000   0.000000   \n",
       "rating_weather  163.0      0.515337      0.841485  0.000000   0.000000   \n",
       "car_or_bus      163.0      1.466258      0.500397  1.000000   1.000000   \n",
       "\n",
       "                       50%           75%           max  \n",
       "id              158.000000  37991.000000  38092.000000  \n",
       "id_android        4.000000     10.000000     27.000000  \n",
       "speed            16.685368     23.915760     96.206029  \n",
       "time              0.214466      0.390572      1.942948  \n",
       "distance          3.995000      7.333000     55.770000  \n",
       "rating            3.000000      3.000000      3.000000  \n",
       "rating_bus        0.000000      1.000000      3.000000  \n",
       "rating_weather    0.000000      1.000000      2.000000  \n",
       "car_or_bus        1.000000      2.000000      2.000000  "
      ]
     },
     "execution_count": 5,
     "metadata": {},
     "output_type": "execute_result"
    }
   ],
   "source": [
    "# show some basic statistics about the data using the DateFrame\n",
    "df.describe().T"
   ]
  },
  {
   "cell_type": "code",
   "execution_count": 24,
   "metadata": {
    "scrolled": true
   },
   "outputs": [
    {
     "name": "stdout",
     "output_type": "stream",
     "text": [
      "[3 3 3 3 2 2 3 3 3 2 3 3 2 2 2 2 2 3 2 3 1 1 3 3 3 2 3 3 3 3 3 3 3 2 3 3 3\n",
      " 3 3 2 2 3 3 1 2 3 3 2 2 2 2 2 2 2 2 2 2 3 3 3 2 2 3 3 3 3 3 3 3 3 2 2 2 2\n",
      " 3 3 3 3 2 3 1 1 3 1 3 3 3 2 2 3 3 3 3 2 1 3 3 3 3 1 3 3 3 3 3 3 3 1 3 2 3\n",
      " 3 1 1 3 3 2 3 3 3 1 3 2 3 3 2 2 3 3 3 3 2 2 1 1 1 2 3 2 3 3 1 3 3 3 3 3 3\n",
      " 3 3 3 3 3 3 3 3 2 3 2 3 1 3 3]\n"
     ]
    }
   ],
   "source": [
    "# convert the .columns to a list, and chooese a certain attribute to print out\n",
    "df_list = df[\"rating\"].values\n",
    "uniqueValues = np.unique(df_list)\n",
    "print(df_list)"
   ]
  },
  {
   "cell_type": "code",
   "execution_count": 25,
   "metadata": {},
   "outputs": [
    {
     "name": "stdout",
     "output_type": "stream",
     "text": [
      "[1 2 3]\n"
     ]
    }
   ],
   "source": [
    "# print out the unique/independent values\n",
    "print(uniqueValues)"
   ]
  },
  {
   "cell_type": "code",
   "execution_count": 42,
   "metadata": {},
   "outputs": [
    {
     "name": "stdout",
     "output_type": "stream",
     "text": [
      "dict_items([(3, 101), (2, 45), (1, 17)])\n"
     ]
    }
   ],
   "source": [
    "# count each evaluation occurrence\n",
    "input_value = df[\"rating\"].values\n",
    "count_list = Counter(input_value)\n",
    "print(count_list.items())"
   ]
  },
  {
   "cell_type": "code",
   "execution_count": 28,
   "metadata": {},
   "outputs": [],
   "source": [
    "column_list = list(df.columns)[0:-1]"
   ]
  },
  {
   "cell_type": "code",
   "execution_count": 32,
   "metadata": {},
   "outputs": [
    {
     "data": {
      "text/plain": [
       "<seaborn.axisgrid.PairGrid at 0x1a1fa93b00>"
      ]
     },
     "execution_count": 32,
     "metadata": {},
     "output_type": "execute_result"
    },
    {
     "data": {
      "image/png": "[encoded data removed]",
      "text/plain": [
       "<Figure size 648x648 with 90 Axes>"
      ]
     },
     "metadata": {},
     "output_type": "display_data"
    }
   ],
   "source": [
    "sb.pairplot(df.loc[:,column_list], size = 1)"
   ]
  },
  {
   "cell_type": "markdown",
   "metadata": {},
   "source": [
    "From the pair plot above, we should separate two part for discussion.\n",
    "1. The first part is some numeric values, such as speed, time, and distance.\n",
    "It can tell that they are concentrated at majority part, even though there are some distinct spot at somewhere. Because the majority spot are concentrated, it could tell that most of the data are pretty similar. Based on the finding, we dare to raise a hypothesis that the data collector are depart at the center to everywhere, or even they are only collecting data in a certain area.\n",
    "2. The second part is about evaluation, such as rating, rating_but, rating_weather.\n",
    "It only could shows that all the volunteer's experience rate. Moverover, I count the rating occurrence above to illustrate that most of volunteer are satisfied their current bus situation. \n",
    "> In a nutshell, at first sight, I thought this will be an interested dataset. But after we narrow down each attribute and some variables, it just tell us the basic situation.\n"
   ]
  },
  {
   "cell_type": "code",
   "execution_count": 61,
   "metadata": {
    "scrolled": true
   },
   "outputs": [
    {
     "name": "stdout",
     "output_type": "stream",
     "text": [
      "      time\n",
      "time   1.0\n"
     ]
    }
   ],
   "source": [
    "correlation_column = df[['time']]\n",
    "matrix_column = correlation_column.corr()\n",
    "print(matrix_column)"
   ]
  },
  {
   "cell_type": "code",
   "execution_count": 57,
   "metadata": {},
   "outputs": [
    {
     "data": {
      "text/html": [
       "<div>\n",
       "<style scoped>\n",
       "    .dataframe tbody tr th:only-of-type {\n",
       "        vertical-align: middle;\n",
       "    }\n",
       "\n",
       "    .dataframe tbody tr th {\n",
       "        vertical-align: top;\n",
       "    }\n",
       "\n",
       "    .dataframe thead th {\n",
       "        text-align: right;\n",
       "    }\n",
       "</style>\n",
       "<table border=\"1\" class=\"dataframe\">\n",
       "  <thead>\n",
       "    <tr style=\"text-align: right;\">\n",
       "      <th></th>\n",
       "      <th>id</th>\n",
       "      <th>id_android</th>\n",
       "      <th>speed</th>\n",
       "      <th>time</th>\n",
       "      <th>distance</th>\n",
       "      <th>rating</th>\n",
       "      <th>rating_bus</th>\n",
       "      <th>rating_weather</th>\n",
       "      <th>car_or_bus</th>\n",
       "    </tr>\n",
       "  </thead>\n",
       "  <tbody>\n",
       "    <tr>\n",
       "      <th>id</th>\n",
       "      <td>1.000000</td>\n",
       "      <td>0.610094</td>\n",
       "      <td>-0.098485</td>\n",
       "      <td>0.029410</td>\n",
       "      <td>-0.045866</td>\n",
       "      <td>0.024658</td>\n",
       "      <td>0.486490</td>\n",
       "      <td>0.597534</td>\n",
       "      <td>0.240600</td>\n",
       "    </tr>\n",
       "    <tr>\n",
       "      <th>id_android</th>\n",
       "      <td>0.610094</td>\n",
       "      <td>1.000000</td>\n",
       "      <td>0.072475</td>\n",
       "      <td>0.043123</td>\n",
       "      <td>0.025575</td>\n",
       "      <td>0.110744</td>\n",
       "      <td>0.155881</td>\n",
       "      <td>0.244098</td>\n",
       "      <td>-0.077846</td>\n",
       "    </tr>\n",
       "    <tr>\n",
       "      <th>speed</th>\n",
       "      <td>-0.098485</td>\n",
       "      <td>0.072475</td>\n",
       "      <td>1.000000</td>\n",
       "      <td>0.190531</td>\n",
       "      <td>0.594457</td>\n",
       "      <td>0.175497</td>\n",
       "      <td>-0.199186</td>\n",
       "      <td>-0.224698</td>\n",
       "      <td>-0.257872</td>\n",
       "    </tr>\n",
       "    <tr>\n",
       "      <th>time</th>\n",
       "      <td>0.029410</td>\n",
       "      <td>0.043123</td>\n",
       "      <td>0.190531</td>\n",
       "      <td>1.000000</td>\n",
       "      <td>0.661371</td>\n",
       "      <td>-0.157466</td>\n",
       "      <td>-0.114893</td>\n",
       "      <td>-0.114535</td>\n",
       "      <td>-0.084028</td>\n",
       "    </tr>\n",
       "    <tr>\n",
       "      <th>distance</th>\n",
       "      <td>-0.045866</td>\n",
       "      <td>0.025575</td>\n",
       "      <td>0.594457</td>\n",
       "      <td>0.661371</td>\n",
       "      <td>1.000000</td>\n",
       "      <td>0.067579</td>\n",
       "      <td>-0.154358</td>\n",
       "      <td>-0.165319</td>\n",
       "      <td>-0.167561</td>\n",
       "    </tr>\n",
       "    <tr>\n",
       "      <th>rating</th>\n",
       "      <td>0.024658</td>\n",
       "      <td>0.110744</td>\n",
       "      <td>0.175497</td>\n",
       "      <td>-0.157466</td>\n",
       "      <td>0.067579</td>\n",
       "      <td>1.000000</td>\n",
       "      <td>-0.151520</td>\n",
       "      <td>0.094103</td>\n",
       "      <td>-0.202823</td>\n",
       "    </tr>\n",
       "    <tr>\n",
       "      <th>rating_bus</th>\n",
       "      <td>0.486490</td>\n",
       "      <td>0.155881</td>\n",
       "      <td>-0.199186</td>\n",
       "      <td>-0.114893</td>\n",
       "      <td>-0.154358</td>\n",
       "      <td>-0.151520</td>\n",
       "      <td>1.000000</td>\n",
       "      <td>0.837521</td>\n",
       "      <td>0.603035</td>\n",
       "    </tr>\n",
       "    <tr>\n",
       "      <th>rating_weather</th>\n",
       "      <td>0.597534</td>\n",
       "      <td>0.244098</td>\n",
       "      <td>-0.224698</td>\n",
       "      <td>-0.114535</td>\n",
       "      <td>-0.165319</td>\n",
       "      <td>0.094103</td>\n",
       "      <td>0.837521</td>\n",
       "      <td>1.000000</td>\n",
       "      <td>0.657256</td>\n",
       "    </tr>\n",
       "    <tr>\n",
       "      <th>car_or_bus</th>\n",
       "      <td>0.240600</td>\n",
       "      <td>-0.077846</td>\n",
       "      <td>-0.257872</td>\n",
       "      <td>-0.084028</td>\n",
       "      <td>-0.167561</td>\n",
       "      <td>-0.202823</td>\n",
       "      <td>0.603035</td>\n",
       "      <td>0.657256</td>\n",
       "      <td>1.000000</td>\n",
       "    </tr>\n",
       "  </tbody>\n",
       "</table>\n",
       "</div>"
      ],
      "text/plain": [
       "                      id  id_android     speed      time  distance    rating  \\\n",
       "id              1.000000    0.610094 -0.098485  0.029410 -0.045866  0.024658   \n",
       "id_android      0.610094    1.000000  0.072475  0.043123  0.025575  0.110744   \n",
       "speed          -0.098485    0.072475  1.000000  0.190531  0.594457  0.175497   \n",
       "time            0.029410    0.043123  0.190531  1.000000  0.661371 -0.157466   \n",
       "distance       -0.045866    0.025575  0.594457  0.661371  1.000000  0.067579   \n",
       "rating          0.024658    0.110744  0.175497 -0.157466  0.067579  1.000000   \n",
       "rating_bus      0.486490    0.155881 -0.199186 -0.114893 -0.154358 -0.151520   \n",
       "rating_weather  0.597534    0.244098 -0.224698 -0.114535 -0.165319  0.094103   \n",
       "car_or_bus      0.240600   -0.077846 -0.257872 -0.084028 -0.167561 -0.202823   \n",
       "\n",
       "                rating_bus  rating_weather  car_or_bus  \n",
       "id                0.486490        0.597534    0.240600  \n",
       "id_android        0.155881        0.244098   -0.077846  \n",
       "speed            -0.199186       -0.224698   -0.257872  \n",
       "time             -0.114893       -0.114535   -0.084028  \n",
       "distance         -0.154358       -0.165319   -0.167561  \n",
       "rating           -0.151520        0.094103   -0.202823  \n",
       "rating_bus        1.000000        0.837521    0.603035  \n",
       "rating_weather    0.837521        1.000000    0.657256  \n",
       "car_or_bus        0.603035        0.657256    1.000000  "
      ]
     },
     "execution_count": 57,
     "metadata": {},
     "output_type": "execute_result"
    }
   ],
   "source": [
    "df.corr()"
   ]
  },
  {
   "cell_type": "code",
   "execution_count": 62,
   "metadata": {},
   "outputs": [
    {
     "data": {
      "image/png": "[encoded data removed]",
      "text/plain": [
       "<Figure size 432x288 with 2 Axes>"
      ]
     },
     "metadata": {},
     "output_type": "display_data"
    }
   ],
   "source": [
    "df_heatmap = sb.heatmap(correlation_column, vmin = -1, vmax = 1, center = 0, square = True, linewidths = .1)"
   ]
  },
  {
   "cell_type": "code",
   "execution_count": 64,
   "metadata": {},
   "outputs": [
    {
     "data": {
      "image/png": "[encoded data removed]",
      "text/plain": [
       "<Figure size 432x288 with 1 Axes>"
      ]
     },
     "metadata": {},
     "output_type": "display_data"
    }
   ],
   "source": [
    "df_column = df[\"distance\"].values\n",
    "unique_column = np.unique(df_column)\n",
    "df_boxplot = sb.boxplot(data = unique_column)"
   ]
  },
  {
   "cell_type": "code",
   "execution_count": 70,
   "metadata": {},
   "outputs": [
    {
     "data": {
      "image/png": "[encoded data removed]",
      "text/plain": [
       "<Figure size 432x288 with 1 Axes>"
      ]
     },
     "metadata": {},
     "output_type": "display_data"
    }
   ],
   "source": [
    "df_boxplot = sb.boxplot(data = df.loc[:, 'speed'])"
   ]
  },
  {
   "cell_type": "code",
   "execution_count": 69,
   "metadata": {},
   "outputs": [
    {
     "data": {
      "image/png": "[encoded data removed]",
      "text/plain": [
       "<Figure size 432x288 with 1 Axes>"
      ]
     },
     "metadata": {},
     "output_type": "display_data"
    }
   ],
   "source": [
    "df_two_column = sb.boxplot(data = df.loc[:,['time', 'distance']])"
   ]
  },
  {
   "cell_type": "markdown",
   "metadata": {},
   "source": [
    "Based on the boxplot above, we can easily see that most of the data are below normal standard deviation."
   ]
  }
 ],
 "metadata": {
  "kernelspec": {
   "display_name": "Python 3",
   "language": "python",
   "name": "python3"
  },
  "language_info": {
   "codemirror_mode": {
    "name": "ipython",
    "version": 3
   },
   "file_extension": ".py",
   "mimetype": "text/x-python",
   "name": "python",
   "nbconvert_exporter": "python",
   "pygments_lexer": "ipython3",
   "version": "3.6.5"
  }
 },
 "nbformat": 4,
 "nbformat_minor": 2
}
