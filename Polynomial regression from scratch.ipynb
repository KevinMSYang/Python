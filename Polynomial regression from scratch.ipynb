{
 "cells": [
  {
   "cell_type": "markdown",
   "metadata": {},
   "source": [
    "<b> Homework02-Polynomaial regression from scratch\n",
    ">Kevin Yang 50541650"
   ]
  },
  {
   "cell_type": "code",
   "execution_count": 2,
   "metadata": {},
   "outputs": [],
   "source": [
    "import numpy as np\n",
    "from numpy.linalg import inv\n",
    "import matplotlib.pyplot as plt\n",
    "np.random.seed(2019)"
   ]
  },
  {
   "cell_type": "code",
   "execution_count": 3,
   "metadata": {},
   "outputs": [],
   "source": [
    "def polynomial_function(x, order=2, coeffs=None):\n",
    "    if coeffs is None:\n",
    "        raise RuntimeError(\"Must provide coeffs list with length as order +1.\")\n",
    "    coeffs = np.array(list(reversed(coeffs)), dtype=float)\n",
    "    res = 0\n",
    "    for e in range(order+1):\n",
    "        res = res + coeffs[e] * pow(x, e)\n",
    "    return res"
   ]
  },
  {
   "cell_type": "code",
   "execution_count": 4,
   "metadata": {},
   "outputs": [],
   "source": [
    "def gaussian_noise(mu=0, sigma=1):\n",
    "    return np.random.normal(mu, sigma)"
   ]
  },
  {
   "cell_type": "code",
   "execution_count": 5,
   "metadata": {},
   "outputs": [],
   "source": [
    "def add_noise(values, **args):\n",
    "    return np.apply_along_axis(lambda x: x + gaussian_noise(**args), 0, values)"
   ]
  },
  {
   "cell_type": "code",
   "execution_count": 6,
   "metadata": {},
   "outputs": [],
   "source": [
    "f2 = lambda x: polynomial_function(x, 3, [-0.001, 0.21, -0.02, 12])"
   ]
  },
  {
   "cell_type": "code",
   "execution_count": 7,
   "metadata": {},
   "outputs": [],
   "source": [
    "X = np.array([i for i in range(1, 201)])"
   ]
  },
  {
   "cell_type": "code",
   "execution_count": 8,
   "metadata": {},
   "outputs": [],
   "source": [
    "np.random.shuffle(X)"
   ]
  },
  {
   "cell_type": "code",
   "execution_count": 9,
   "metadata": {},
   "outputs": [],
   "source": [
    "y_clean = np.array([f2(x) for x in X], dtype = float)"
   ]
  },
  {
   "cell_type": "code",
   "execution_count": 10,
   "metadata": {},
   "outputs": [],
   "source": [
    "noise2 = np.random.normal(scale=25, size=(len(y_clean),))"
   ]
  },
  {
   "cell_type": "code",
   "execution_count": 11,
   "metadata": {},
   "outputs": [],
   "source": [
    "y = y_clean + noise2"
   ]
  },
  {
   "cell_type": "code",
   "execution_count": 12,
   "metadata": {},
   "outputs": [
    {
     "data": {
      "image/png": "[encoded data removed]",
      "text/plain": [
       "<Figure size 432x288 with 1 Axes>"
      ]
     },
     "metadata": {},
     "output_type": "display_data"
    }
   ],
   "source": [
    "plt.scatter(X, y, color =\"blue\", s=2)\n",
    "plt.scatter(X, y_clean, s=1, color=\"red\")\n",
    "plt.show()"
   ]
  },
  {
   "cell_type": "code",
   "execution_count": 15,
   "metadata": {},
   "outputs": [
    {
     "name": "stdout",
     "output_type": "stream",
     "text": [
      "4\n"
     ]
    }
   ],
   "source": [
    "D = np.ones((len(X),4),dtype=float)\n",
    "for i in range(X.size):\n",
    "    for e in range(4):\n",
    "        D[i,e] = pow(X[i],e)"
   ]
  },
  {
   "cell_type": "code",
   "execution_count": null,
   "metadata": {},
   "outputs": [],
   "source": [
    "Y = D.T.dot(y.T)\n",
    "A = D.T.dot(D)\n",
    "Ainv = inv(A)\n",
    "W = Ainv.dot(Y)\n",
    "print(W[0])\n",
    "print(W[1])\n",
    "print(W[2])\n",
    "print(W[3])"
   ]
  },
  {
   "cell_type": "code",
   "execution_count": null,
   "metadata": {},
   "outputs": [],
   "source": [
    "y_pred = np.zeros(X.shape)\n",
    "for i in range(len(X)):\n",
    "    y_pred[i] = W[3]*pow(X[i],3) + W[2]*pow(X[i],2) + W[1]*pow(X[i],1) + W[0]"
   ]
  },
  {
   "cell_type": "code",
   "execution_count": null,
   "metadata": {},
   "outputs": [],
   "source": [
    "tem_result = 0\n",
    "i = 0\n",
    "for i in range(X.size):\n",
    "    tem_result = tem_result + ((y[i] - y_pred[i]) * (y[i] - y_pred[i]))\n",
    "MSE = tem_result / 200\n",
    "print(MSE)"
   ]
  },
  {
   "cell_type": "code",
   "execution_count": null,
   "metadata": {},
   "outputs": [],
   "source": [
    "tem_result1 = 0\n",
    "i = 0\n",
    "for i in range(X.size):\n",
    "    tem_result1 = tem_result1 + ((y[i] - y_pred[i]) / y[i])\n",
    "MPE = tem_result1 * 100/200\n",
    "print(MPE)"
   ]
  },
  {
   "cell_type": "code",
   "execution_count": null,
   "metadata": {},
   "outputs": [],
   "source": [
    "SSres = tem_result\n",
    "avg_y = 0\n",
    "i = 0\n",
    "for i in range(X.size):\n",
    "    avg_y = avg_y + y[i]\n",
    "    \n",
    "    \n",
    "avg_y = avg_y / X.size\n",
    "tem = 0\n",
    "i = 0\n",
    "for i in range(X.size):\n",
    "    tem = tem + ((y[i]-avg_y) * (y[i]-avg_y))\n",
    "SStot = tem\n",
    "R2 = 1- (SSres/SStot)\n",
    "print(R2)"
   ]
  },
  {
   "cell_type": "code",
   "execution_count": null,
   "metadata": {},
   "outputs": [],
   "source": []
  },
  {
   "cell_type": "code",
   "execution_count": null,
   "metadata": {},
   "outputs": [],
   "source": []
  },
  {
   "cell_type": "code",
   "execution_count": null,
   "metadata": {},
   "outputs": [],
   "source": []
  },
  {
   "cell_type": "code",
   "execution_count": null,
   "metadata": {},
   "outputs": [],
   "source": []
  }
 ],
 "metadata": {
  "kernelspec": {
   "display_name": "Python 3",
   "language": "python",
   "name": "python3"
  },
  "language_info": {
   "codemirror_mode": {
    "name": "ipython",
    "version": 3
   },
   "file_extension": ".py",
   "mimetype": "text/x-python",
   "name": "python",
   "nbconvert_exporter": "python",
   "pygments_lexer": "ipython3",
   "version": "3.6.5"
  }
 },
 "nbformat": 4,
 "nbformat_minor": 2
}
