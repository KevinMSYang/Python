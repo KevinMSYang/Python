{
 "cells": [
  {
   "cell_type": "raw",
   "metadata": {},
   "source": [
    "Predict Rain From Atmospheric Data\n",
    "Kevin Yang\n",
    "50541650"
   ]
  },
  {
   "cell_type": "code",
   "execution_count": 1,
   "metadata": {},
   "outputs": [],
   "source": [
    "# Import the necessary libraries\n",
    "import pandas as pd\n",
    "from pandas import DataFrame\n",
    "import numpy as np\n",
    "import matplotlib.pyplot as plt\n",
    "plt.rc(\"font\", size = 14)\n",
    "%matplotlib inline\n",
    "from sklearn.metrics import roc_curve, auc\n",
    "from sklearn import metrics"
   ]
  },
  {
   "cell_type": "code",
   "execution_count": 2,
   "metadata": {
    "scrolled": true
   },
   "outputs": [],
   "source": [
    "# Load the data set into a Pandas DataFrame\n",
    "rainPredict = pd.read_csv('temp_prcp_jonesboro_2016-2017_selected.csv')"
   ]
  },
  {
   "cell_type": "code",
   "execution_count": 3,
   "metadata": {},
   "outputs": [
    {
     "data": {
      "text/html": [
       "<div>\n",
       "<style scoped>\n",
       "    .dataframe tbody tr th:only-of-type {\n",
       "        vertical-align: middle;\n",
       "    }\n",
       "\n",
       "    .dataframe tbody tr th {\n",
       "        vertical-align: top;\n",
       "    }\n",
       "\n",
       "    .dataframe thead th {\n",
       "        text-align: right;\n",
       "    }\n",
       "</style>\n",
       "<table border=\"1\" class=\"dataframe\">\n",
       "  <thead>\n",
       "    <tr style=\"text-align: right;\">\n",
       "      <th></th>\n",
       "      <th>STATION</th>\n",
       "      <th>STATION_NAME</th>\n",
       "      <th>ELEVATION</th>\n",
       "      <th>LATITUDE</th>\n",
       "      <th>LONGITUDE</th>\n",
       "      <th>DATE</th>\n",
       "      <th>REPORTTPYE</th>\n",
       "      <th>HOURLYDRYBULBTEMPF</th>\n",
       "      <th>HOURLYRelativeHumidity</th>\n",
       "      <th>HOURLYStationPressure</th>\n",
       "      <th>HOURLYPrecip</th>\n",
       "    </tr>\n",
       "  </thead>\n",
       "  <tbody>\n",
       "    <tr>\n",
       "      <th>0</th>\n",
       "      <td>WBAN:03953</td>\n",
       "      <td>JONESBORO MUNICIPAL AIRPORT AR US</td>\n",
       "      <td>79.9</td>\n",
       "      <td>35.83111</td>\n",
       "      <td>-90.64639</td>\n",
       "      <td>2016-01-01 00:53</td>\n",
       "      <td>FM-15</td>\n",
       "      <td>34.0</td>\n",
       "      <td>85.0</td>\n",
       "      <td>30.12</td>\n",
       "      <td>NONE</td>\n",
       "    </tr>\n",
       "    <tr>\n",
       "      <th>1</th>\n",
       "      <td>WBAN:03953</td>\n",
       "      <td>JONESBORO MUNICIPAL AIRPORT AR US</td>\n",
       "      <td>79.9</td>\n",
       "      <td>35.83111</td>\n",
       "      <td>-90.64639</td>\n",
       "      <td>2016-01-01 01:53</td>\n",
       "      <td>FM-15</td>\n",
       "      <td>34.0</td>\n",
       "      <td>82.0</td>\n",
       "      <td>30.13</td>\n",
       "      <td>NONE</td>\n",
       "    </tr>\n",
       "    <tr>\n",
       "      <th>2</th>\n",
       "      <td>WBAN:03953</td>\n",
       "      <td>JONESBORO MUNICIPAL AIRPORT AR US</td>\n",
       "      <td>79.9</td>\n",
       "      <td>35.83111</td>\n",
       "      <td>-90.64639</td>\n",
       "      <td>2016-01-01 02:53</td>\n",
       "      <td>FM-15</td>\n",
       "      <td>33.0</td>\n",
       "      <td>85.0</td>\n",
       "      <td>30.13</td>\n",
       "      <td>NONE</td>\n",
       "    </tr>\n",
       "    <tr>\n",
       "      <th>3</th>\n",
       "      <td>WBAN:03953</td>\n",
       "      <td>JONESBORO MUNICIPAL AIRPORT AR US</td>\n",
       "      <td>79.9</td>\n",
       "      <td>35.83111</td>\n",
       "      <td>-90.64639</td>\n",
       "      <td>2016-01-01 03:53</td>\n",
       "      <td>FM-15</td>\n",
       "      <td>32.0</td>\n",
       "      <td>92.0</td>\n",
       "      <td>30.15</td>\n",
       "      <td>NONE</td>\n",
       "    </tr>\n",
       "    <tr>\n",
       "      <th>4</th>\n",
       "      <td>WBAN:03953</td>\n",
       "      <td>JONESBORO MUNICIPAL AIRPORT AR US</td>\n",
       "      <td>79.9</td>\n",
       "      <td>35.83111</td>\n",
       "      <td>-90.64639</td>\n",
       "      <td>2016-01-01 04:53</td>\n",
       "      <td>FM-15</td>\n",
       "      <td>31.0</td>\n",
       "      <td>92.0</td>\n",
       "      <td>30.14</td>\n",
       "      <td>NONE</td>\n",
       "    </tr>\n",
       "  </tbody>\n",
       "</table>\n",
       "</div>"
      ],
      "text/plain": [
       "      STATION                       STATION_NAME  ELEVATION  LATITUDE  \\\n",
       "0  WBAN:03953  JONESBORO MUNICIPAL AIRPORT AR US       79.9  35.83111   \n",
       "1  WBAN:03953  JONESBORO MUNICIPAL AIRPORT AR US       79.9  35.83111   \n",
       "2  WBAN:03953  JONESBORO MUNICIPAL AIRPORT AR US       79.9  35.83111   \n",
       "3  WBAN:03953  JONESBORO MUNICIPAL AIRPORT AR US       79.9  35.83111   \n",
       "4  WBAN:03953  JONESBORO MUNICIPAL AIRPORT AR US       79.9  35.83111   \n",
       "\n",
       "   LONGITUDE              DATE REPORTTPYE  HOURLYDRYBULBTEMPF  \\\n",
       "0  -90.64639  2016-01-01 00:53      FM-15                34.0   \n",
       "1  -90.64639  2016-01-01 01:53      FM-15                34.0   \n",
       "2  -90.64639  2016-01-01 02:53      FM-15                33.0   \n",
       "3  -90.64639  2016-01-01 03:53      FM-15                32.0   \n",
       "4  -90.64639  2016-01-01 04:53      FM-15                31.0   \n",
       "\n",
       "   HOURLYRelativeHumidity  HOURLYStationPressure HOURLYPrecip  \n",
       "0                    85.0                  30.12         NONE  \n",
       "1                    82.0                  30.13         NONE  \n",
       "2                    85.0                  30.13         NONE  \n",
       "3                    92.0                  30.15         NONE  \n",
       "4                    92.0                  30.14         NONE  "
      ]
     },
     "execution_count": 3,
     "metadata": {},
     "output_type": "execute_result"
    }
   ],
   "source": [
    "# Deal with the missing values\n",
    "rainPredict = rainPredict.fillna(method = 'ffill')\n",
    "rainPredict.head()"
   ]
  },
  {
   "cell_type": "code",
   "execution_count": 4,
   "metadata": {},
   "outputs": [
    {
     "name": "stdout",
     "output_type": "stream",
     "text": [
      "<class 'pandas.core.frame.DataFrame'>\n",
      "RangeIndex: 19027 entries, 0 to 19026\n",
      "Data columns (total 11 columns):\n",
      "STATION                   19027 non-null object\n",
      "STATION_NAME              19027 non-null object\n",
      "ELEVATION                 19027 non-null float64\n",
      "LATITUDE                  19027 non-null float64\n",
      "LONGITUDE                 19027 non-null float64\n",
      "DATE                      19027 non-null object\n",
      "REPORTTPYE                19027 non-null object\n",
      "HOURLYDRYBULBTEMPF        19027 non-null float64\n",
      "HOURLYRelativeHumidity    19027 non-null float64\n",
      "HOURLYStationPressure     19027 non-null float64\n",
      "HOURLYPrecip              19027 non-null object\n",
      "dtypes: float64(6), object(5)\n",
      "memory usage: 1.6+ MB\n"
     ]
    },
    {
     "data": {
      "text/html": [
       "<div>\n",
       "<style scoped>\n",
       "    .dataframe tbody tr th:only-of-type {\n",
       "        vertical-align: middle;\n",
       "    }\n",
       "\n",
       "    .dataframe tbody tr th {\n",
       "        vertical-align: top;\n",
       "    }\n",
       "\n",
       "    .dataframe thead th {\n",
       "        text-align: right;\n",
       "    }\n",
       "</style>\n",
       "<table border=\"1\" class=\"dataframe\">\n",
       "  <thead>\n",
       "    <tr style=\"text-align: right;\">\n",
       "      <th></th>\n",
       "      <th>ELEVATION</th>\n",
       "      <th>LATITUDE</th>\n",
       "      <th>LONGITUDE</th>\n",
       "      <th>HOURLYDRYBULBTEMPF</th>\n",
       "      <th>HOURLYRelativeHumidity</th>\n",
       "      <th>HOURLYStationPressure</th>\n",
       "    </tr>\n",
       "  </thead>\n",
       "  <tbody>\n",
       "    <tr>\n",
       "      <th>count</th>\n",
       "      <td>1.902700e+04</td>\n",
       "      <td>1.902700e+04</td>\n",
       "      <td>1.902700e+04</td>\n",
       "      <td>19027.000000</td>\n",
       "      <td>19027.000000</td>\n",
       "      <td>19027.000000</td>\n",
       "    </tr>\n",
       "    <tr>\n",
       "      <th>mean</th>\n",
       "      <td>7.990000e+01</td>\n",
       "      <td>3.583111e+01</td>\n",
       "      <td>-9.064639e+01</td>\n",
       "      <td>62.072739</td>\n",
       "      <td>73.965733</td>\n",
       "      <td>29.746142</td>\n",
       "    </tr>\n",
       "    <tr>\n",
       "      <th>std</th>\n",
       "      <td>1.756508e-11</td>\n",
       "      <td>1.709611e-11</td>\n",
       "      <td>3.751764e-11</td>\n",
       "      <td>17.203186</td>\n",
       "      <td>18.443774</td>\n",
       "      <td>0.185892</td>\n",
       "    </tr>\n",
       "    <tr>\n",
       "      <th>min</th>\n",
       "      <td>7.990000e+01</td>\n",
       "      <td>3.583111e+01</td>\n",
       "      <td>-9.064639e+01</td>\n",
       "      <td>10.000000</td>\n",
       "      <td>20.000000</td>\n",
       "      <td>29.030000</td>\n",
       "    </tr>\n",
       "    <tr>\n",
       "      <th>25%</th>\n",
       "      <td>7.990000e+01</td>\n",
       "      <td>3.583111e+01</td>\n",
       "      <td>-9.064639e+01</td>\n",
       "      <td>50.000000</td>\n",
       "      <td>60.000000</td>\n",
       "      <td>29.640000</td>\n",
       "    </tr>\n",
       "    <tr>\n",
       "      <th>50%</th>\n",
       "      <td>7.990000e+01</td>\n",
       "      <td>3.583111e+01</td>\n",
       "      <td>-9.064639e+01</td>\n",
       "      <td>64.000000</td>\n",
       "      <td>77.000000</td>\n",
       "      <td>29.730000</td>\n",
       "    </tr>\n",
       "    <tr>\n",
       "      <th>75%</th>\n",
       "      <td>7.990000e+01</td>\n",
       "      <td>3.583111e+01</td>\n",
       "      <td>-9.064639e+01</td>\n",
       "      <td>76.000000</td>\n",
       "      <td>90.000000</td>\n",
       "      <td>29.840000</td>\n",
       "    </tr>\n",
       "    <tr>\n",
       "      <th>max</th>\n",
       "      <td>7.990000e+01</td>\n",
       "      <td>3.583111e+01</td>\n",
       "      <td>-9.064639e+01</td>\n",
       "      <td>98.000000</td>\n",
       "      <td>100.000000</td>\n",
       "      <td>30.500000</td>\n",
       "    </tr>\n",
       "  </tbody>\n",
       "</table>\n",
       "</div>"
      ],
      "text/plain": [
       "          ELEVATION      LATITUDE     LONGITUDE  HOURLYDRYBULBTEMPF  \\\n",
       "count  1.902700e+04  1.902700e+04  1.902700e+04        19027.000000   \n",
       "mean   7.990000e+01  3.583111e+01 -9.064639e+01           62.072739   \n",
       "std    1.756508e-11  1.709611e-11  3.751764e-11           17.203186   \n",
       "min    7.990000e+01  3.583111e+01 -9.064639e+01           10.000000   \n",
       "25%    7.990000e+01  3.583111e+01 -9.064639e+01           50.000000   \n",
       "50%    7.990000e+01  3.583111e+01 -9.064639e+01           64.000000   \n",
       "75%    7.990000e+01  3.583111e+01 -9.064639e+01           76.000000   \n",
       "max    7.990000e+01  3.583111e+01 -9.064639e+01           98.000000   \n",
       "\n",
       "       HOURLYRelativeHumidity  HOURLYStationPressure  \n",
       "count            19027.000000           19027.000000  \n",
       "mean                73.965733              29.746142  \n",
       "std                 18.443774               0.185892  \n",
       "min                 20.000000              29.030000  \n",
       "25%                 60.000000              29.640000  \n",
       "50%                 77.000000              29.730000  \n",
       "75%                 90.000000              29.840000  \n",
       "max                100.000000              30.500000  "
      ]
     },
     "execution_count": 4,
     "metadata": {},
     "output_type": "execute_result"
    }
   ],
   "source": [
    " # Check all rows and column for null value\n",
    "rainPredict.info()\n",
    "rainPredict.describe()"
   ]
  },
  {
   "cell_type": "code",
   "execution_count": 5,
   "metadata": {},
   "outputs": [
    {
     "name": "stdout",
     "output_type": "stream",
     "text": [
      "{'HOURLYPrecip', 'ELEVATION', 'REPORTTPYE', 'HOURLYDRYBULBTEMPF', 'STATION_NAME', 'DATE', 'HOURLYStationPressure', 'LONGITUDE', 'LATITUDE', 'STATION', 'HOURLYRelativeHumidity'}\n"
     ]
    }
   ],
   "source": [
    "# set = is an unordered collection of items; every element is unique and must be immutable \n",
    "cols = set(rainPredict.columns.values)\n",
    "print(cols)"
   ]
  },
  {
   "cell_type": "code",
   "execution_count": 6,
   "metadata": {},
   "outputs": [
    {
     "name": "stdout",
     "output_type": "stream",
     "text": [
      "{'HOURLYPrecip', 'HOURLYDRYBULBTEMPF', 'HOURLYStationPressure', 'HOURLYRelativeHumidity'}\n"
     ]
    }
   ],
   "source": [
    "# pd.isna = Return a boolean same-sized object indicating if the values are NA values, such as none or numpy.NaN\n",
    "rainPredict[pd.isna(rainPredict['HOURLYStationPressure'])]\n",
    "\n",
    "# Remove unnecessary columns\n",
    "cols -= set(['REPORTTPYE', 'STATION', 'STATION_NAME', 'ELEVATION', 'LATITUDE', 'LONGITUDE', 'DATE'])\n",
    "print(cols)"
   ]
  },
  {
   "cell_type": "code",
   "execution_count": 7,
   "metadata": {},
   "outputs": [
    {
     "data": {
      "text/html": [
       "<div>\n",
       "<style scoped>\n",
       "    .dataframe tbody tr th:only-of-type {\n",
       "        vertical-align: middle;\n",
       "    }\n",
       "\n",
       "    .dataframe tbody tr th {\n",
       "        vertical-align: top;\n",
       "    }\n",
       "\n",
       "    .dataframe thead th {\n",
       "        text-align: right;\n",
       "    }\n",
       "</style>\n",
       "<table border=\"1\" class=\"dataframe\">\n",
       "  <thead>\n",
       "    <tr style=\"text-align: right;\">\n",
       "      <th></th>\n",
       "      <th>HOURLYPrecip</th>\n",
       "      <th>HOURLYDRYBULBTEMPF</th>\n",
       "      <th>HOURLYStationPressure</th>\n",
       "      <th>HOURLYRelativeHumidity</th>\n",
       "    </tr>\n",
       "  </thead>\n",
       "  <tbody>\n",
       "    <tr>\n",
       "      <th>0</th>\n",
       "      <td>NONE</td>\n",
       "      <td>34.0</td>\n",
       "      <td>30.12</td>\n",
       "      <td>85.0</td>\n",
       "    </tr>\n",
       "    <tr>\n",
       "      <th>1</th>\n",
       "      <td>NONE</td>\n",
       "      <td>34.0</td>\n",
       "      <td>30.13</td>\n",
       "      <td>82.0</td>\n",
       "    </tr>\n",
       "    <tr>\n",
       "      <th>2</th>\n",
       "      <td>NONE</td>\n",
       "      <td>33.0</td>\n",
       "      <td>30.13</td>\n",
       "      <td>85.0</td>\n",
       "    </tr>\n",
       "    <tr>\n",
       "      <th>3</th>\n",
       "      <td>NONE</td>\n",
       "      <td>32.0</td>\n",
       "      <td>30.15</td>\n",
       "      <td>92.0</td>\n",
       "    </tr>\n",
       "    <tr>\n",
       "      <th>4</th>\n",
       "      <td>NONE</td>\n",
       "      <td>31.0</td>\n",
       "      <td>30.14</td>\n",
       "      <td>92.0</td>\n",
       "    </tr>\n",
       "  </tbody>\n",
       "</table>\n",
       "</div>"
      ],
      "text/plain": [
       "  HOURLYPrecip  HOURLYDRYBULBTEMPF  HOURLYStationPressure  \\\n",
       "0         NONE                34.0                  30.12   \n",
       "1         NONE                34.0                  30.13   \n",
       "2         NONE                33.0                  30.13   \n",
       "3         NONE                32.0                  30.15   \n",
       "4         NONE                31.0                  30.14   \n",
       "\n",
       "   HOURLYRelativeHumidity  \n",
       "0                    85.0  \n",
       "1                    82.0  \n",
       "2                    85.0  \n",
       "3                    92.0  \n",
       "4                    92.0  "
      ]
     },
     "execution_count": 7,
     "metadata": {},
     "output_type": "execute_result"
    }
   ],
   "source": [
    "# list = is a collection which is ordered an changeable\n",
    "rainPredict = rainPredict[list(cols)]\n",
    "rainPredict.head()"
   ]
  },
  {
   "cell_type": "code",
   "execution_count": 8,
   "metadata": {},
   "outputs": [
    {
     "data": {
      "image/png": "[encoded data removed]",
      "text/plain": [
       "<Figure size 432x288 with 2 Axes>"
      ]
     },
     "metadata": {},
     "output_type": "display_data"
    }
   ],
   "source": [
    "# Check the independence with the independent variables\n",
    "import seaborn as sb\n",
    "from pandas import DataFrame\n",
    "sb.set(style = \"white\")\n",
    "sb.set(style = \"whitegrid\", color_codes = True)\n",
    "xcols = cols - set(['HOURLYPrecip'])\n",
    "sb.heatmap(rainPredict[list(xcols)].corr())\n",
    "plt.show()"
   ]
  },
  {
   "cell_type": "code",
   "execution_count": 9,
   "metadata": {},
   "outputs": [
    {
     "name": "stderr",
     "output_type": "stream",
     "text": [
      "/Users/Kevin/anaconda3/lib/python3.6/site-packages/sklearn/cross_validation.py:41: DeprecationWarning: This module was deprecated in version 0.18 in favor of the model_selection module into which all the refactored classes and functions are moved. Also note that the interface of the new CV iterators are different from that of this module. This module will be removed in 0.20.\n",
      "  \"This module will be removed in 0.20.\", DeprecationWarning)\n"
     ]
    }
   ],
   "source": [
    "# y = dependent varaible ; X = independent variables\n",
    "y = rainPredict['HOURLYPrecip'].values\n",
    "X = rainPredict[list(xcols)].values\n",
    "# split X and y into training and testing sets\n",
    "from sklearn.cross_validation import train_test_split\n",
    "X_train, X_test, y_train, y_test = train_test_split(X, y, random_state = 0)"
   ]
  },
  {
   "cell_type": "code",
   "execution_count": 10,
   "metadata": {},
   "outputs": [
    {
     "data": {
      "text/plain": [
       "LogisticRegression(C=1.0, class_weight=None, dual=False, fit_intercept=True,\n",
       "          intercept_scaling=1, max_iter=100, multi_class='ovr', n_jobs=1,\n",
       "          penalty='l2', random_state=None, solver='lbfgs', tol=0.0001,\n",
       "          verbose=0, warm_start=False)"
      ]
     },
     "execution_count": 10,
     "metadata": {},
     "output_type": "execute_result"
    }
   ],
   "source": [
    "from sklearn.model_selection import cross_val_score, cross_val_predict\n",
    "from sklearn.linear_model import LogisticRegression\n",
    "lr_cls = LogisticRegression(solver = 'lbfgs')\n",
    "lr_cls.fit(X_train, y_train)"
   ]
  },
  {
   "cell_type": "code",
   "execution_count": 11,
   "metadata": {},
   "outputs": [
    {
     "data": {
      "text/plain": [
       "array([0.85027581, 0.82943495, 0.839159  , 0.839159  , 0.85282523])"
      ]
     },
     "execution_count": 11,
     "metadata": {},
     "output_type": "execute_result"
    }
   ],
   "source": [
    "# cv =5 -> 5-fold CV\n",
    "scores = cross_val_score(lr_cls, X, y, cv = 5 )\n",
    "scores"
   ]
  },
  {
   "cell_type": "code",
   "execution_count": 12,
   "metadata": {},
   "outputs": [
    {
     "name": "stdout",
     "output_type": "stream",
     "text": [
      "Accuracy: 0.84(+/- 0.00)\n"
     ]
    }
   ],
   "source": [
    "print(\"Accuracy: %0.2f(+/- %0.2f)\" %(scores.mean(), (scores.std()/np.sqrt(len(scores)))))"
   ]
  },
  {
   "cell_type": "code",
   "execution_count": 13,
   "metadata": {},
   "outputs": [
    {
     "name": "stdout",
     "output_type": "stream",
     "text": [
      "3246\n",
      "985\n"
     ]
    }
   ],
   "source": [
    "predictions = cross_val_predict(lr_cls, X, y, cv = 5)\n",
    "print(sum(y == 'RAIN')) # Here is how many \"RAIN\" readings we should see\n",
    "print(sum(predictions == 'RAIN')) # How many do we really see"
   ]
  },
  {
   "cell_type": "code",
   "execution_count": 14,
   "metadata": {},
   "outputs": [
    {
     "name": "stdout",
     "output_type": "stream",
     "text": [
      "Accuracy: 0.842\n"
     ]
    }
   ],
   "source": [
    "# print the accuracy score\n",
    "from sklearn.metrics import *\n",
    "print(\"Accuracy: %0.3f\" %accuracy_score(y, predictions))"
   ]
  },
  {
   "cell_type": "code",
   "execution_count": 15,
   "metadata": {},
   "outputs": [],
   "source": [
    "# print balanced the two class\n",
    "#from sklearn.metrics import balanced_accuracy_score\n",
    "#print(\"Balanced Accuracy: %0.3f\" %balanced_accuracy_score(y, predictions))"
   ]
  },
  {
   "cell_type": "code",
   "execution_count": 16,
   "metadata": {},
   "outputs": [
    {
     "name": "stdout",
     "output_type": "stream",
     "text": [
      "True: ['NONE' 'NONE' 'NONE' 'NONE' 'NONE' 'NONE' 'NONE' 'NONE' 'RAIN' 'NONE'\n",
      " 'NONE' 'RAIN' 'NONE' 'NONE' 'NONE' 'RAIN' 'NONE' 'RAIN' 'RAIN' 'NONE']\n",
      "Pred: ['NONE' 'NONE' 'NONE' 'NONE' 'NONE' 'NONE' 'NONE' 'NONE' 'NONE' 'NONE'\n",
      " 'NONE' 'NONE' 'NONE' 'NONE' 'NONE' 'NONE' 'NONE' 'NONE' 'NONE' 'NONE']\n"
     ]
    }
   ],
   "source": [
    "# Comparing the true and predicted response value\n",
    "# print the first 25 true and predicted responses\n",
    "print ('True:' , y_test[0:20])\n",
    "print ('Pred:', predictions[0:20])"
   ]
  },
  {
   "cell_type": "code",
   "execution_count": 17,
   "metadata": {},
   "outputs": [
    {
     "name": "stdout",
     "output_type": "stream",
     "text": [
      "             precision    recall  f1-score   support\n",
      "\n",
      "       NONE       0.85      0.98      0.91     15781\n",
      "       RAIN       0.62      0.19      0.29      3246\n",
      "\n",
      "avg / total       0.81      0.84      0.81     19027\n",
      "\n"
     ]
    }
   ],
   "source": [
    "print(classification_report(y, predictions))"
   ]
  },
  {
   "cell_type": "code",
   "execution_count": 18,
   "metadata": {},
   "outputs": [
    {
     "data": {
      "text/plain": [
       "array(['NONE', 'NONE', 'NONE', 'NONE', 'NONE', 'NONE', 'NONE', 'NONE',\n",
       "       'NONE', 'NONE'], dtype=object)"
      ]
     },
     "execution_count": 18,
     "metadata": {},
     "output_type": "execute_result"
    }
   ],
   "source": [
    "# print t he first 10 predicted responses\n",
    "lr_cls.predict(X_test)[0:10]"
   ]
  },
  {
   "cell_type": "code",
   "execution_count": 19,
   "metadata": {},
   "outputs": [
    {
     "name": "stdout",
     "output_type": "stream",
     "text": [
      "[[0.78133341 0.21866659]\n",
      " [0.81998837 0.18001163]\n",
      " [0.78099175 0.21900825]\n",
      " ...\n",
      " [0.99253241 0.00746759]\n",
      " [0.99151109 0.00848891]\n",
      " [0.98721264 0.01278736]]\n"
     ]
    }
   ],
   "source": [
    "# Convert NONE and RAIN to 0/1  then predict probabilities from the model\n",
    "y_numeric = (y == \"RAIN\").astype(int)\n",
    "# Predict probabilities from the logistic model\n",
    "probabilities = cross_val_predict(lr_cls, X, y, cv = 5, method = \"predict_proba\")\n",
    "print(probabilities)"
   ]
  },
  {
   "cell_type": "code",
   "execution_count": 20,
   "metadata": {},
   "outputs": [
    {
     "name": "stdout",
     "output_type": "stream",
     "text": [
      "[0.18001163 0.21900825 0.3292353  0.33083901 0.33186388 0.40609186\n",
      " 0.21845188 0.1787589  0.09455719]\n"
     ]
    }
   ],
   "source": [
    "# convert to single-dimensional array by taking only the second column (the probability of \"RAIN\")\n",
    "#[:,1] = all rows, second columns\n",
    "probabilities = probabilities[:,1]\n",
    "print(probabilities[1:10])"
   ]
  },
  {
   "cell_type": "code",
   "execution_count": 21,
   "metadata": {},
   "outputs": [
    {
     "data": {
      "text/plain": [
       "Text(0,0.5,'Frequency')"
      ]
     },
     "execution_count": 21,
     "metadata": {},
     "output_type": "execute_result"
    },
    {
     "data": {
      "image/png": "[encoded data removed]",
      "text/plain": [
       "<Figure size 432x288 with 1 Axes>"
      ]
     },
     "metadata": {},
     "output_type": "display_data"
    }
   ],
   "source": [
    "# histogram of predicted probabilities\n",
    "plt.hist(probabilities, bins = 8)\n",
    "plt.xlim(0, 1)\n",
    "plt.title('Histogram of predicted probabilities')\n",
    "plt.xlabel('Predicted probability of rain')\n",
    "plt.ylabel('Frequency')"
   ]
  },
  {
   "cell_type": "code",
   "execution_count": 22,
   "metadata": {},
   "outputs": [
    {
     "data": {
      "text/plain": [
       "0.2902387142519499"
      ]
     },
     "execution_count": 22,
     "metadata": {},
     "output_type": "execute_result"
    }
   ],
   "source": [
    "f1_score(y_numeric, probabilities.round())"
   ]
  },
  {
   "cell_type": "code",
   "execution_count": 23,
   "metadata": {},
   "outputs": [
    {
     "data": {
      "text/plain": [
       "0.8168847354323736"
      ]
     },
     "execution_count": 23,
     "metadata": {},
     "output_type": "execute_result"
    }
   ],
   "source": [
    "roc_auc_score(y_numeric, probabilities)"
   ]
  },
  {
   "cell_type": "code",
   "execution_count": 24,
   "metadata": {},
   "outputs": [
    {
     "data": {
      "text/plain": [
       "0.6233502538071066"
      ]
     },
     "execution_count": 24,
     "metadata": {},
     "output_type": "execute_result"
    }
   ],
   "source": [
    "precision_score(y_numeric, probabilities.round())"
   ]
  },
  {
   "cell_type": "code",
   "execution_count": 25,
   "metadata": {},
   "outputs": [
    {
     "data": {
      "text/plain": [
       "0.1891558841651263"
      ]
     },
     "execution_count": 25,
     "metadata": {},
     "output_type": "execute_result"
    }
   ],
   "source": [
    "recall_score(y_numeric, probabilities.round())"
   ]
  },
  {
   "cell_type": "code",
   "execution_count": 26,
   "metadata": {},
   "outputs": [
    {
     "data": {
      "text/plain": [
       "0.3629273438749931"
      ]
     },
     "execution_count": 26,
     "metadata": {},
     "output_type": "execute_result"
    }
   ],
   "source": [
    "log_loss(y_numeric, probabilities)"
   ]
  },
  {
   "cell_type": "code",
   "execution_count": 27,
   "metadata": {},
   "outputs": [
    {
     "data": {
      "image/png": "[encoded data removed]",
      "text/plain": [
       "<Figure size 432x288 with 1 Axes>"
      ]
     },
     "metadata": {},
     "output_type": "display_data"
    }
   ],
   "source": [
    "lr_cls.fit(X,y)\n",
    "probs_linear = lr_cls.predict_proba(X)\n",
    "preds_linear = probs_linear[:,1]\n",
    "fpr, tpr, threshold = metrics.roc_curve(y_numeric, preds_linear)\n",
    "roc_auc = metrics.auc(fpr, tpr)\n",
    "linearplot = plt.plot(fpr, tpr, 'b', label = \"linear\" 'auc = %0.2f' %roc_auc, color = 'purple')"
   ]
  },
  {
   "cell_type": "markdown",
   "metadata": {},
   "source": [
    "Multi-Layer Perceptron"
   ]
  },
  {
   "cell_type": "code",
   "execution_count": 28,
   "metadata": {},
   "outputs": [],
   "source": [
    "# Train Test Split\n",
    "X_train, X_test, y_train, y_test = train_test_split(X, y)"
   ]
  },
  {
   "cell_type": "code",
   "execution_count": 29,
   "metadata": {},
   "outputs": [
    {
     "data": {
      "text/plain": [
       "StandardScaler(copy=True, with_mean=True, with_std=True)"
      ]
     },
     "execution_count": 29,
     "metadata": {},
     "output_type": "execute_result"
    }
   ],
   "source": [
    "from sklearn.preprocessing import StandardScaler\n",
    "scaler = StandardScaler()\n",
    "# Fit only to the raining data\n",
    "scaler.fit(X_train)"
   ]
  },
  {
   "cell_type": "code",
   "execution_count": 30,
   "metadata": {
    "scrolled": true
   },
   "outputs": [],
   "source": [
    "# Apply the transformations to the data\n",
    "X_train = scaler.transform(X_train)\n",
    "X_test = scaler.transform(X_test)"
   ]
  },
  {
   "cell_type": "raw",
   "metadata": {},
   "source": [
    "parameter: pass in a tuple consisting of the number of neurons you want at each layer, \n",
    "where the nth entry in the tuple represents the number of neurons in the nth layer  of the MLP model"
   ]
  },
  {
   "cell_type": "code",
   "execution_count": 31,
   "metadata": {},
   "outputs": [
    {
     "data": {
      "text/plain": [
       "(19027, 4)"
      ]
     },
     "execution_count": 31,
     "metadata": {},
     "output_type": "execute_result"
    }
   ],
   "source": [
    "# 19027 data points with 3 features and 1 label column\n",
    "rainPredict.shape"
   ]
  },
  {
   "cell_type": "code",
   "execution_count": 32,
   "metadata": {},
   "outputs": [],
   "source": [
    "# Training the model \n",
    "from sklearn.neural_network import MLPClassifier\n",
    "# 3 layers with the same number of neurons as there are features in our data set along with 500 max iterations\n",
    "mlp = MLPClassifier(hidden_layer_sizes = (3, 3, 3), max_iter = 500)"
   ]
  },
  {
   "cell_type": "code",
   "execution_count": 33,
   "metadata": {},
   "outputs": [
    {
     "data": {
      "text/plain": [
       "MLPClassifier(activation='relu', alpha=0.0001, batch_size='auto', beta_1=0.9,\n",
       "       beta_2=0.999, early_stopping=False, epsilon=1e-08,\n",
       "       hidden_layer_sizes=(3, 3, 3), learning_rate='constant',\n",
       "       learning_rate_init=0.001, max_iter=500, momentum=0.9,\n",
       "       nesterovs_momentum=True, power_t=0.5, random_state=None,\n",
       "       shuffle=True, solver='adam', tol=0.0001, validation_fraction=0.1,\n",
       "       verbose=False, warm_start=False)"
      ]
     },
     "execution_count": 33,
     "metadata": {},
     "output_type": "execute_result"
    }
   ],
   "source": [
    "# Fit the training data to our model\n",
    "mlp.fit(X_train, y_train)"
   ]
  },
  {
   "cell_type": "code",
   "execution_count": 34,
   "metadata": {},
   "outputs": [
    {
     "data": {
      "text/plain": [
       "array([0.83004991, 0.82943495, 0.82785808, 0.82943495, 0.82943495])"
      ]
     },
     "execution_count": 34,
     "metadata": {},
     "output_type": "execute_result"
    }
   ],
   "source": [
    "# cv =5 -> 5-fold CV\n",
    "scores = cross_val_score(mlp, X, y, cv = 5 )\n",
    "scores"
   ]
  },
  {
   "cell_type": "code",
   "execution_count": 35,
   "metadata": {},
   "outputs": [
    {
     "name": "stdout",
     "output_type": "stream",
     "text": [
      "Accuracy: 0.83(+/- 0.00)\n"
     ]
    }
   ],
   "source": [
    "print(\"Accuracy: %0.2f(+/- %0.2f)\" %(scores.mean(), (scores.std()/np.sqrt(len(scores)))))"
   ]
  },
  {
   "cell_type": "code",
   "execution_count": 36,
   "metadata": {},
   "outputs": [
    {
     "name": "stdout",
     "output_type": "stream",
     "text": [
      "3246\n",
      "1005\n"
     ]
    }
   ],
   "source": [
    "predictions = cross_val_predict(mlp, X, y, cv = 5)\n",
    "print(sum(y == 'RAIN')) # Here is how many \"RAIN\" readings we should see\n",
    "print(sum(predictions == 'RAIN')) # How many do we really see"
   ]
  },
  {
   "cell_type": "code",
   "execution_count": 37,
   "metadata": {},
   "outputs": [
    {
     "name": "stdout",
     "output_type": "stream",
     "text": [
      "Accuracy: 0.822\n"
     ]
    }
   ],
   "source": [
    "# print the accuracy score\n",
    "print(\"Accuracy: %0.3f\" %accuracy_score(y, predictions))"
   ]
  },
  {
   "cell_type": "code",
   "execution_count": 38,
   "metadata": {},
   "outputs": [],
   "source": [
    "# print balanced the two class\n",
    "#print(\"Balanced Accuracy: %0.3f\" %balanced_accuracy_score(y, predictions))"
   ]
  },
  {
   "cell_type": "code",
   "execution_count": 39,
   "metadata": {},
   "outputs": [
    {
     "name": "stdout",
     "output_type": "stream",
     "text": [
      "True: ['NONE' 'NONE' 'NONE' 'RAIN' 'NONE' 'NONE' 'RAIN' 'NONE' 'NONE' 'NONE'\n",
      " 'NONE' 'NONE' 'NONE' 'NONE' 'NONE' 'NONE' 'NONE' 'NONE' 'NONE' 'NONE']\n",
      "Pred: ['NONE' 'NONE' 'NONE' 'NONE' 'NONE' 'NONE' 'NONE' 'NONE' 'NONE' 'NONE'\n",
      " 'NONE' 'NONE' 'NONE' 'NONE' 'NONE' 'NONE' 'NONE' 'NONE' 'NONE' 'NONE']\n"
     ]
    }
   ],
   "source": [
    "# Comparing the true and predicted response value\n",
    "# print the first 25 true and predicted responses\n",
    "print ('True:' , y_test[0:20])\n",
    "print ('Pred:', predictions[0:20])"
   ]
  },
  {
   "cell_type": "code",
   "execution_count": 40,
   "metadata": {},
   "outputs": [],
   "source": [
    "# Get predictions\n",
    "predictions = mlp.predict(X_test)"
   ]
  },
  {
   "cell_type": "code",
   "execution_count": 41,
   "metadata": {},
   "outputs": [
    {
     "name": "stdout",
     "output_type": "stream",
     "text": [
      "[[3802  166]\n",
      " [ 532  257]]\n"
     ]
    }
   ],
   "source": [
    "# Built in metrics such as a classification report and confusion matrix to evaluate how well our model performed\n",
    "from sklearn.metrics import classification_report, confusion_matrix\n",
    "print(confusion_matrix(y_test, predictions))"
   ]
  },
  {
   "cell_type": "code",
   "execution_count": 42,
   "metadata": {},
   "outputs": [
    {
     "name": "stdout",
     "output_type": "stream",
     "text": [
      "             precision    recall  f1-score   support\n",
      "\n",
      "       NONE       0.88      0.96      0.92      3968\n",
      "       RAIN       0.61      0.33      0.42       789\n",
      "\n",
      "avg / total       0.83      0.85      0.83      4757\n",
      "\n"
     ]
    }
   ],
   "source": [
    "print(classification_report(y_test, predictions))"
   ]
  },
  {
   "cell_type": "code",
   "execution_count": 43,
   "metadata": {},
   "outputs": [
    {
     "data": {
      "text/plain": [
       "array(['NONE', 'NONE', 'NONE', 'NONE', 'RAIN', 'RAIN', 'NONE', 'NONE',\n",
       "       'NONE', 'NONE'], dtype='<U4')"
      ]
     },
     "execution_count": 43,
     "metadata": {},
     "output_type": "execute_result"
    }
   ],
   "source": [
    "# print t he first 10 predicted responses\n",
    "mlp.predict(X_test)[0:10]"
   ]
  },
  {
   "cell_type": "code",
   "execution_count": 44,
   "metadata": {},
   "outputs": [
    {
     "name": "stdout",
     "output_type": "stream",
     "text": [
      "[[0.77257913 0.22742087]\n",
      " [0.8129452  0.1870548 ]\n",
      " [0.77204971 0.22795029]\n",
      " ...\n",
      " [0.97379605 0.02620395]\n",
      " [0.96954396 0.03045604]\n",
      " [0.95550726 0.04449274]]\n"
     ]
    }
   ],
   "source": [
    "# Convert NONE and RAIN to 0/1  then predict probabilities from the model\n",
    "y_numeric = (y == \"RAIN\").astype(int)\n",
    "# Predict probabilities from the logistic model\n",
    "probabilities = cross_val_predict(mlp, X, y, cv = 5, method = \"predict_proba\")\n",
    "print(probabilities)"
   ]
  },
  {
   "cell_type": "code",
   "execution_count": 45,
   "metadata": {},
   "outputs": [
    {
     "name": "stdout",
     "output_type": "stream",
     "text": [
      "[0.1870548  0.22795029 0.34309559 0.34477528 0.34595712 0.41061478\n",
      " 0.22770003 0.18616596 0.09769166]\n"
     ]
    }
   ],
   "source": [
    "# convert to single-dimensional array by taking only the second column (the probability of \"RAIN\")\n",
    "#[:,1] = all rows, second columns\n",
    "probabilities = probabilities[:,1]\n",
    "print(probabilities[1:10])"
   ]
  },
  {
   "cell_type": "code",
   "execution_count": 46,
   "metadata": {},
   "outputs": [
    {
     "data": {
      "text/plain": [
       "Text(0,0.5,'Frequency')"
      ]
     },
     "execution_count": 46,
     "metadata": {},
     "output_type": "execute_result"
    },
    {
     "data": {
      "image/png": "[encoded data removed]",
      "text/plain": [
       "<Figure size 432x288 with 1 Axes>"
      ]
     },
     "metadata": {},
     "output_type": "display_data"
    }
   ],
   "source": [
    "# histogram of predicted probabilities\n",
    "plt.hist(probabilities, bins = 8)\n",
    "plt.xlim(0, 1)\n",
    "plt.title('Histogram of predicted probabilities')\n",
    "plt.xlabel('Predicted probability of rain')\n",
    "plt.ylabel('Frequency')"
   ]
  },
  {
   "cell_type": "code",
   "execution_count": 47,
   "metadata": {},
   "outputs": [
    {
     "data": {
      "text/plain": [
       "0.14151183507253753"
      ]
     },
     "execution_count": 47,
     "metadata": {},
     "output_type": "execute_result"
    }
   ],
   "source": [
    "f1_score(y_numeric, probabilities.round())"
   ]
  },
  {
   "cell_type": "code",
   "execution_count": 48,
   "metadata": {},
   "outputs": [
    {
     "data": {
      "text/plain": [
       "0.7801158946880873"
      ]
     },
     "execution_count": 48,
     "metadata": {},
     "output_type": "execute_result"
    }
   ],
   "source": [
    "roc_auc_score(y_numeric, probabilities)"
   ]
  },
  {
   "cell_type": "code",
   "execution_count": 49,
   "metadata": {},
   "outputs": [
    {
     "data": {
      "text/plain": [
       "0.40702781844802344"
      ]
     },
     "execution_count": 49,
     "metadata": {},
     "output_type": "execute_result"
    }
   ],
   "source": [
    "precision_score(y_numeric, probabilities.round())"
   ]
  },
  {
   "cell_type": "code",
   "execution_count": 50,
   "metadata": {},
   "outputs": [
    {
     "data": {
      "text/plain": [
       "0.08564386937769562"
      ]
     },
     "execution_count": 50,
     "metadata": {},
     "output_type": "execute_result"
    }
   ],
   "source": [
    "recall_score(y_numeric, probabilities.round())"
   ]
  },
  {
   "cell_type": "code",
   "execution_count": 51,
   "metadata": {},
   "outputs": [
    {
     "data": {
      "text/plain": [
       "0.3861585946040857"
      ]
     },
     "execution_count": 51,
     "metadata": {},
     "output_type": "execute_result"
    }
   ],
   "source": [
    "log_loss(y_numeric, probabilities)"
   ]
  },
  {
   "cell_type": "code",
   "execution_count": 52,
   "metadata": {},
   "outputs": [
    {
     "data": {
      "image/png": "[encoded data removed]",
      "text/plain": [
       "<Figure size 432x288 with 1 Axes>"
      ]
     },
     "metadata": {},
     "output_type": "display_data"
    }
   ],
   "source": [
    "probs_mlp = mlp.predict_proba(X)\n",
    "preds_mlp = probs_mlp[:,1]\n",
    "fpr_mlp, tpr_mlp, threshold = metrics.roc_curve(y_numeric, preds_mlp)\n",
    "roc_auc_mlp = metrics.auc(fpr_mlp, tpr_mlp)\n",
    "mlpplot = plt.plot(fpr_mlp, tpr_mlp, label = \"MLP\" ' auc = %0.2f' %roc_auc_mlp, color = 'blue')"
   ]
  },
  {
   "cell_type": "raw",
   "metadata": {},
   "source": [
    "Support Vector Machine"
   ]
  },
  {
   "cell_type": "code",
   "execution_count": 53,
   "metadata": {},
   "outputs": [],
   "source": [
    "# Train Test Split\n",
    "X_train, X_test, y_train, y_test = train_test_split(X, y)"
   ]
  },
  {
   "cell_type": "raw",
   "metadata": {},
   "source": [
    "SVC is a class that takes one parameter, which is the kernel type.\n",
    "In the case of a simple SVM we simply set this parameter as \"linear\" \n",
    "since simple SVMs can only classify linearly spearable data"
   ]
  },
  {
   "cell_type": "code",
   "execution_count": 54,
   "metadata": {},
   "outputs": [
    {
     "data": {
      "text/plain": [
       "SVC(C=1.0, cache_size=200, class_weight=None, coef0=0.0,\n",
       "  decision_function_shape='ovr', degree=3, gamma='auto', kernel='rbf',\n",
       "  max_iter=-1, probability=True, random_state=None, shrinking=True,\n",
       "  tol=0.001, verbose=False)"
      ]
     },
     "execution_count": 54,
     "metadata": {},
     "output_type": "execute_result"
    }
   ],
   "source": [
    "from sklearn.svm import SVC\n",
    "svclassifier = SVC(gamma = 'auto', probability = True)\n",
    "svclassifier.fit(X_train, y_train)"
   ]
  },
  {
   "cell_type": "code",
   "execution_count": 55,
   "metadata": {},
   "outputs": [
    {
     "data": {
      "text/plain": [
       "array([0.83425269, 0.8218134 , 0.82417871, 0.80289093, 0.81103811])"
      ]
     },
     "execution_count": 55,
     "metadata": {},
     "output_type": "execute_result"
    }
   ],
   "source": [
    "# cv =5 -> 5-fold CV\n",
    "scores = cross_val_score(svclassifier, X, y, cv = 5 )\n",
    "scores"
   ]
  },
  {
   "cell_type": "code",
   "execution_count": 56,
   "metadata": {},
   "outputs": [
    {
     "name": "stdout",
     "output_type": "stream",
     "text": [
      "Accuracy: 0.82(+/- 0.00)\n"
     ]
    }
   ],
   "source": [
    "print(\"Accuracy: %0.2f(+/- %0.2f)\" %(scores.mean(), (scores.std()/np.sqrt(len(scores)))))"
   ]
  },
  {
   "cell_type": "code",
   "execution_count": 57,
   "metadata": {},
   "outputs": [
    {
     "name": "stdout",
     "output_type": "stream",
     "text": [
      "3246\n",
      "1059\n"
     ]
    }
   ],
   "source": [
    "predictions = cross_val_predict(svclassifier, X, y, cv = 5)\n",
    "print(sum(y == 'RAIN')) # Here is how many \"RAIN\" readings we should see\n",
    "print(sum(predictions == 'RAIN')) # How many do we really see"
   ]
  },
  {
   "cell_type": "code",
   "execution_count": 58,
   "metadata": {},
   "outputs": [
    {
     "name": "stdout",
     "output_type": "stream",
     "text": [
      "Accuracy: 0.819\n"
     ]
    }
   ],
   "source": [
    "# print the accuracy score\n",
    "print(\"Accuracy: %0.3f\" %accuracy_score(y, predictions))"
   ]
  },
  {
   "cell_type": "code",
   "execution_count": 59,
   "metadata": {},
   "outputs": [],
   "source": [
    "# print balanced the two class\n",
    "#print(\"Balanced Accuracy: %0.3f\" %balanced_accuracy_score(y, predictions))"
   ]
  },
  {
   "cell_type": "code",
   "execution_count": 60,
   "metadata": {},
   "outputs": [
    {
     "name": "stdout",
     "output_type": "stream",
     "text": [
      "True: ['RAIN' 'RAIN' 'RAIN' 'NONE' 'NONE' 'NONE' 'NONE' 'NONE' 'NONE' 'RAIN'\n",
      " 'NONE' 'NONE' 'NONE' 'RAIN' 'NONE' 'NONE' 'NONE' 'NONE' 'NONE' 'NONE']\n",
      "Pred: ['NONE' 'NONE' 'NONE' 'NONE' 'NONE' 'NONE' 'NONE' 'NONE' 'NONE' 'NONE'\n",
      " 'NONE' 'NONE' 'NONE' 'NONE' 'NONE' 'NONE' 'NONE' 'NONE' 'NONE' 'NONE']\n"
     ]
    }
   ],
   "source": [
    "# Comparing the true and predicted response value\n",
    "# print the first 25 true and predicted responses\n",
    "print ('True:' , y_test[0:20])\n",
    "print ('Pred:', predictions[0:20])"
   ]
  },
  {
   "cell_type": "code",
   "execution_count": 61,
   "metadata": {},
   "outputs": [],
   "source": [
    "# Get predictions\n",
    "predictions = svclassifier.predict(X_test)"
   ]
  },
  {
   "cell_type": "code",
   "execution_count": 62,
   "metadata": {},
   "outputs": [
    {
     "name": "stdout",
     "output_type": "stream",
     "text": [
      "[[3814  127]\n",
      " [ 588  228]]\n"
     ]
    }
   ],
   "source": [
    "# Evaluating the algorithm-finding the metrics\n",
    "print(confusion_matrix(y_test, predictions))"
   ]
  },
  {
   "cell_type": "code",
   "execution_count": 63,
   "metadata": {},
   "outputs": [
    {
     "name": "stdout",
     "output_type": "stream",
     "text": [
      "             precision    recall  f1-score   support\n",
      "\n",
      "       NONE       0.87      0.97      0.91      3941\n",
      "       RAIN       0.64      0.28      0.39       816\n",
      "\n",
      "avg / total       0.83      0.85      0.82      4757\n",
      "\n"
     ]
    }
   ],
   "source": [
    "print(classification_report(y_test, predictions))"
   ]
  },
  {
   "cell_type": "code",
   "execution_count": 64,
   "metadata": {},
   "outputs": [
    {
     "data": {
      "text/plain": [
       "array(['RAIN', 'NONE', 'NONE', 'NONE', 'NONE', 'NONE', 'NONE', 'NONE',\n",
       "       'NONE', 'RAIN'], dtype=object)"
      ]
     },
     "execution_count": 64,
     "metadata": {},
     "output_type": "execute_result"
    }
   ],
   "source": [
    "# print t he first 10 predicted responses\n",
    "svclassifier.predict(X_test)[0:10]"
   ]
  },
  {
   "cell_type": "code",
   "execution_count": 65,
   "metadata": {},
   "outputs": [
    {
     "name": "stdout",
     "output_type": "stream",
     "text": [
      "[[0.78133341 0.21866659]\n",
      " [0.81998837 0.18001163]\n",
      " [0.78099175 0.21900825]\n",
      " ...\n",
      " [0.99253241 0.00746759]\n",
      " [0.99151109 0.00848891]\n",
      " [0.98721264 0.01278736]]\n"
     ]
    }
   ],
   "source": [
    "# Convert NONE and RAIN to 0/1  then predict probabilities from the model\n",
    "y_numeric = (y == \"RAIN\").astype(int)\n",
    "# Predict probabilities from the logistic model\n",
    "probabilities = cross_val_predict(lr_cls, X, y, cv = 5, method = \"predict_proba\")\n",
    "print(probabilities)"
   ]
  },
  {
   "cell_type": "code",
   "execution_count": 66,
   "metadata": {},
   "outputs": [
    {
     "name": "stdout",
     "output_type": "stream",
     "text": [
      "[0.18001163 0.21900825 0.3292353  0.33083901 0.33186388 0.40609186\n",
      " 0.21845188 0.1787589  0.09455719 0.03518614 0.02387014 0.03531824\n",
      " 0.02048814 0.02050076 0.02585593 0.024084   0.11941157 0.14789564\n",
      " 0.28209935]\n"
     ]
    }
   ],
   "source": [
    "# convert to single-dimensional array by taking only the second column (the probability of \"RAIN\")\n",
    "#[:,1] = all rows, second columns\n",
    "probabilities = probabilities[:,1]\n",
    "print(probabilities[1:20])"
   ]
  },
  {
   "cell_type": "code",
   "execution_count": 67,
   "metadata": {},
   "outputs": [
    {
     "data": {
      "text/plain": [
       "Text(0,0.5,'Frequency')"
      ]
     },
     "execution_count": 67,
     "metadata": {},
     "output_type": "execute_result"
    },
    {
     "data": {
      "image/png": "[encoded data removed]",
      "text/plain": [
       "<Figure size 432x288 with 1 Axes>"
      ]
     },
     "metadata": {},
     "output_type": "display_data"
    }
   ],
   "source": [
    "# histogram of predicted probabilities\n",
    "plt.hist(probabilities, bins = 8)\n",
    "plt.xlim(0, 1)\n",
    "plt.title('Histogram of predicted probabilities')\n",
    "plt.xlabel('Predicted probability of rain')\n",
    "plt.ylabel('Frequency')"
   ]
  },
  {
   "cell_type": "code",
   "execution_count": 68,
   "metadata": {},
   "outputs": [
    {
     "data": {
      "text/plain": [
       "0.2902387142519499"
      ]
     },
     "execution_count": 68,
     "metadata": {},
     "output_type": "execute_result"
    }
   ],
   "source": [
    "f1_score(y_numeric, probabilities.round())"
   ]
  },
  {
   "cell_type": "code",
   "execution_count": 69,
   "metadata": {},
   "outputs": [
    {
     "data": {
      "text/plain": [
       "0.8168847354323736"
      ]
     },
     "execution_count": 69,
     "metadata": {},
     "output_type": "execute_result"
    }
   ],
   "source": [
    "roc_auc_score(y_numeric, probabilities)"
   ]
  },
  {
   "cell_type": "code",
   "execution_count": 70,
   "metadata": {},
   "outputs": [
    {
     "data": {
      "text/plain": [
       "0.6233502538071066"
      ]
     },
     "execution_count": 70,
     "metadata": {},
     "output_type": "execute_result"
    }
   ],
   "source": [
    "precision_score(y_numeric, probabilities.round())"
   ]
  },
  {
   "cell_type": "code",
   "execution_count": 71,
   "metadata": {},
   "outputs": [
    {
     "data": {
      "text/plain": [
       "0.1891558841651263"
      ]
     },
     "execution_count": 71,
     "metadata": {},
     "output_type": "execute_result"
    }
   ],
   "source": [
    "recall_score(y_numeric, probabilities.round())"
   ]
  },
  {
   "cell_type": "code",
   "execution_count": 72,
   "metadata": {},
   "outputs": [
    {
     "data": {
      "text/plain": [
       "0.3629273438749931"
      ]
     },
     "execution_count": 72,
     "metadata": {},
     "output_type": "execute_result"
    }
   ],
   "source": [
    "log_loss(y_numeric, probabilities)"
   ]
  },
  {
   "cell_type": "code",
   "execution_count": 73,
   "metadata": {},
   "outputs": [
    {
     "data": {
      "image/png": "[encoded data removed]",
      "text/plain": [
       "<Figure size 432x288 with 1 Axes>"
      ]
     },
     "metadata": {},
     "output_type": "display_data"
    }
   ],
   "source": [
    "probs_svm = svclassifier.predict_proba(X)\n",
    "preds_svm = probs_svm[:,1]\n",
    "fpr_svm, tpr_svm, threshold = metrics.roc_curve(y_numeric, preds_svm)\n",
    "roc_auc_svm = metrics.auc(fpr_svm, tpr_svm)\n",
    "svmplot = plt.plot(fpr_svm, tpr_svm, label = \"SVM\" 'auc = %0.2f' %roc_auc_svm, color = \"red\")"
   ]
  },
  {
   "cell_type": "markdown",
   "metadata": {},
   "source": [
    "ROC Curves"
   ]
  },
  {
   "cell_type": "code",
   "execution_count": 74,
   "metadata": {},
   "outputs": [],
   "source": [
    "from sklearn.metrics import roc_curve, auc\n",
    "from sklearn import metrics"
   ]
  },
  {
   "cell_type": "code",
   "execution_count": 75,
   "metadata": {},
   "outputs": [
    {
     "data": {
      "image/png": "[encoded data removed]",
      "text/plain": [
       "<Figure size 432x288 with 1 Axes>"
      ]
     },
     "metadata": {},
     "output_type": "display_data"
    }
   ],
   "source": [
    "lr_cls.fit(X,y)\n",
    "probs_linear = lr_cls.predict_proba(X)\n",
    "preds_linear = probs_linear[:,1]\n",
    "fpr, tpr, threshold = metrics.roc_curve(y_numeric, preds_linear)\n",
    "roc_auc = metrics.auc(fpr, tpr)\n",
    "linearplot = plt.plot(fpr, tpr, 'b', label = \"linear\" 'auc = %0.2f' %roc_auc, color = 'purple')\n",
    "probs_mlp = mlp.predict_proba(X)\n",
    "preds_mlp = probs_mlp[:,1]\n",
    "fpr_mlp, tpr_mlp, threshold = metrics.roc_curve(y_numeric, preds_mlp)\n",
    "roc_auc_mlp = metrics.auc(fpr_mlp, tpr_mlp)\n",
    "mlpplot = plt.plot(fpr_mlp, tpr_mlp, label = \"MLP\" ' auc = %0.2f' %roc_auc_mlp, color = 'blue')\n",
    "probs_svm = svclassifier.predict_proba(X)\n",
    "preds_svm = probs_svm[:,1]\n",
    "fpr_svm, tpr_svm, threshold = metrics.roc_curve(y_numeric, preds_svm)\n",
    "roc_auc_svm = metrics.auc(fpr_svm, tpr_svm)\n",
    "svmplot = plt.plot(fpr_svm, tpr_svm, label = \"SVM\" 'auc = %0.2f' %roc_auc_svm, color = \"red\")\n",
    "plt.legend(loc = \"lower right\")\n",
    "plt.show()"
   ]
  }
 ],
 "metadata": {
  "kernelspec": {
   "display_name": "Python 3",
   "language": "python",
   "name": "python3"
  },
  "language_info": {
   "codemirror_mode": {
    "name": "ipython",
    "version": 3
   },
   "file_extension": ".py",
   "mimetype": "text/x-python",
   "name": "python",
   "nbconvert_exporter": "python",
   "pygments_lexer": "ipython3",
   "version": "3.6.5"
  }
 },
 "nbformat": 4,
 "nbformat_minor": 2
}
