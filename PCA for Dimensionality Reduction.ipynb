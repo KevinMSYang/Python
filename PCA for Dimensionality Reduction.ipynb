{
 "cells": [
  {
   "cell_type": "markdown",
   "metadata": {},
   "source": [
    "<b>Homework 03-PCA for Dimensionality Reduction\n",
    ">Keivn Yang 50541650"
   ]
  },
  {
   "cell_type": "code",
   "execution_count": 1,
   "metadata": {},
   "outputs": [],
   "source": [
    "import numpy as np\n",
    "import matplotlib.pyplot as plt\n",
    "from sklearn.linear_model import LogisticRegression\n",
    "from sklearn.model_selection import cross_val_score\n",
    "from sklearn.model_selection import train_test_split\n",
    "from sklearn.metrics import confusion_matrix\n",
    "from sklearn.pipeline import make_pipeline\n",
    "from sklearn.preprocessing import StandardScaler\n",
    "from sklearn.decomposition import PCA\n",
    "from sklearn.datasets import load_wine"
   ]
  },
  {
   "cell_type": "code",
   "execution_count": 2,
   "metadata": {},
   "outputs": [],
   "source": [
    "X, y = load_wine(return_X_y = True)\n",
    "class_names = ['class_0', 'class_1', 'class_2']"
   ]
  },
  {
   "cell_type": "code",
   "execution_count": 3,
   "metadata": {},
   "outputs": [
    {
     "name": "stdout",
     "output_type": "stream",
     "text": [
      "X: [[1.423e+01 1.710e+00 2.430e+00 1.560e+01 1.270e+02 2.800e+00 3.060e+00\n",
      "  2.800e-01 2.290e+00 5.640e+00 1.040e+00 3.920e+00 1.065e+03]\n",
      " [1.320e+01 1.780e+00 2.140e+00 1.120e+01 1.000e+02 2.650e+00 2.760e+00\n",
      "  2.600e-01 1.280e+00 4.380e+00 1.050e+00 3.400e+00 1.050e+03]\n",
      " [1.316e+01 2.360e+00 2.670e+00 1.860e+01 1.010e+02 2.800e+00 3.240e+00\n",
      "  3.000e-01 2.810e+00 5.680e+00 1.030e+00 3.170e+00 1.185e+03]\n",
      " [1.437e+01 1.950e+00 2.500e+00 1.680e+01 1.130e+02 3.850e+00 3.490e+00\n",
      "  2.400e-01 2.180e+00 7.800e+00 8.600e-01 3.450e+00 1.480e+03]\n",
      " [1.324e+01 2.590e+00 2.870e+00 2.100e+01 1.180e+02 2.800e+00 2.690e+00\n",
      "  3.900e-01 1.820e+00 4.320e+00 1.040e+00 2.930e+00 7.350e+02]]\n",
      "y: [0 0 0 0 0]\n"
     ]
    }
   ],
   "source": [
    "print(\"X: {}\".format(X[:5]))\n",
    "print(\"y: {}\".format(y[:5]))"
   ]
  },
  {
   "cell_type": "code",
   "execution_count": 4,
   "metadata": {},
   "outputs": [],
   "source": [
    "raw_lr_model = make_pipeline(LogisticRegression(random_state = 2019, solver = 'liblinear', multi_class = 'ovr'))"
   ]
  },
  {
   "cell_type": "code",
   "execution_count": 5,
   "metadata": {},
   "outputs": [
    {
     "name": "stdout",
     "output_type": "stream",
     "text": [
      "Accuracy: 0.96 (+/- 0.07)\n"
     ]
    }
   ],
   "source": [
    "scores = cross_val_score(raw_lr_model, X, y, cv = 5)\n",
    "print(\"Accuracy: %0.2f (+/- %0.2f)\" %(scores.mean(), scores.std() * 2))"
   ]
  },
  {
   "cell_type": "code",
   "execution_count": 6,
   "metadata": {},
   "outputs": [],
   "source": [
    "pca_lr_model = make_pipeline(StandardScaler(), PCA(), LogisticRegression())"
   ]
  },
  {
   "cell_type": "code",
   "execution_count": 7,
   "metadata": {},
   "outputs": [
    {
     "name": "stdout",
     "output_type": "stream",
     "text": [
      "Accuracy (PCA): 0.98 (+/- 0.03)\n"
     ]
    }
   ],
   "source": [
    "scores = cross_val_score(pca_lr_model, X, y, cv = 5)\n",
    "print(\"Accuracy (PCA): %0.2f (+/- %0.2f)\" %(scores.mean(), scores.std() *2))"
   ]
  },
  {
   "cell_type": "code",
   "execution_count": 8,
   "metadata": {},
   "outputs": [
    {
     "data": {
      "text/plain": [
       "[<matplotlib.lines.Line2D at 0x1a2078e828>]"
      ]
     },
     "execution_count": 8,
     "metadata": {},
     "output_type": "execute_result"
    },
    {
     "data": {
      "image/png": "[encoded data removed]",
      "text/plain": [
       "<Figure size 432x288 with 1 Axes>"
      ]
     },
     "metadata": {},
     "output_type": "display_data"
    }
   ],
   "source": [
    "pca1 = pca_lr_model.fit(X,y).named_steps.pca\n",
    "plt.plot(pca1.explained_variance_ratio_)"
   ]
  },
  {
   "cell_type": "code",
   "execution_count": 9,
   "metadata": {},
   "outputs": [
    {
     "data": {
      "text/plain": [
       "<matplotlib.collections.LineCollection at 0x1a207d42e8>"
      ]
     },
     "execution_count": 9,
     "metadata": {},
     "output_type": "execute_result"
    },
    {
     "data": {
      "image/png": "[encoded data removed]",
      "text/plain": [
       "<Figure size 432x288 with 1 Axes>"
      ]
     },
     "metadata": {},
     "output_type": "display_data"
    }
   ],
   "source": [
    "cumulative_variance = np.cumsum(pca1.explained_variance_ratio_)\n",
    "plt.plot(cumulative_variance)\n",
    "plt.hlines([0.95], 0, 12, colors = ['red'], linestyles = ['dotted'])"
   ]
  },
  {
   "cell_type": "code",
   "execution_count": 10,
   "metadata": {},
   "outputs": [
    {
     "name": "stdout",
     "output_type": "stream",
     "text": [
      "PC1: 0.362%\n",
      "PC2: 0.554%\n",
      "PC3: 0.665%\n",
      "PC4: 0.736%\n",
      "PC5: 0.802%\n",
      "PC6: 0.851%\n",
      "PC7: 0.893%\n",
      "PC8: 0.920%\n",
      "PC9: 0.942%\n",
      "PC10: 0.962%\n",
      "PC11: 0.979%\n",
      "PC12: 0.992%\n",
      "PC13: 1.000%\n"
     ]
    }
   ],
   "source": [
    "for i, v in enumerate(cumulative_variance):\n",
    "    print(\"PC{}: {:.3f}%\".format(i+1, v))"
   ]
  },
  {
   "cell_type": "code",
   "execution_count": 11,
   "metadata": {},
   "outputs": [],
   "source": [
    "pca8_lr_model = make_pipeline(StandardScaler(), PCA(n_components = 8), LogisticRegression())"
   ]
  },
  {
   "cell_type": "code",
   "execution_count": 12,
   "metadata": {},
   "outputs": [
    {
     "name": "stdout",
     "output_type": "stream",
     "text": [
      "Accuracy (8 PCs): 0.97 (+/- 0.08)\n"
     ]
    }
   ],
   "source": [
    "scores = cross_val_score(pca8_lr_model, X, y, cv = 5)\n",
    "print(\"Accuracy (8 PCs): %0.2f (+/- %0.2f)\" %(scores.mean(), scores.std() * 2))"
   ]
  },
  {
   "cell_type": "code",
   "execution_count": 13,
   "metadata": {},
   "outputs": [],
   "source": [
    "pca4_lr_model = make_pipeline(StandardScaler(), PCA(n_components = 4), LogisticRegression())"
   ]
  },
  {
   "cell_type": "code",
   "execution_count": 14,
   "metadata": {},
   "outputs": [
    {
     "name": "stdout",
     "output_type": "stream",
     "text": [
      "Accuracy: 0.95 (+/- 0.07)\n"
     ]
    }
   ],
   "source": [
    "scores = cross_val_score(pca4_lr_model, X, y, cv = 5)\n",
    "print(\"Accuracy: %0.2f (+/- %0.2f)\" %(scores.mean(), scores.std() * 2))"
   ]
  },
  {
   "cell_type": "code",
   "execution_count": 15,
   "metadata": {},
   "outputs": [],
   "source": [
    "def plot_confusion_matrix(cm, classes, normalize = False, title = 'Confusion matrix', cmap = plt.cm.Blues):\n",
    "    import itertools\n",
    "    if normalize:\n",
    "        cm = cm.astype('float') / cm.sum(axis = 1)[:, np.newaxis]\n",
    "    else:\n",
    "        print(\"Confusion matrix, without normalization\")\n",
    "    \n",
    "    print(cm)\n",
    "    \n",
    "    plt.imshow(cm, interpolation = 'nearest', cmap = cmap)\n",
    "    plt.title(title)\n",
    "    plt.colorbar()\n",
    "    tick_marks = np.arange(len(classes))\n",
    "    plt.xticks(tick_marks, classes, rotation = 45)\n",
    "    plt.yticks(tick_marks, classes)\n",
    "    \n",
    "    fmt = '.2f' if normalize else 'd'\n",
    "    thresh = cm.max() / 2.\n",
    "    for i, j in itertools.product(range(cm.shape[0]), range(cm.shape[1])):\n",
    "        plt.text(j, i, format(cm[i, j], fmt), horizontalalignment = 'center', color = 'white' if cm[i, j] > thresh else 'black')\n",
    "        plt.ylabel('True label')\n",
    "        plt.xlabel('Predicted label')\n",
    "        plt.tight_layout()"
   ]
  },
  {
   "cell_type": "code",
   "execution_count": 16,
   "metadata": {},
   "outputs": [],
   "source": [
    "indices = [i for i in range(len(y))]\n",
    "train_indices, test_indices = train_test_split(indices, test_size = 0.33, shuffle = True)"
   ]
  },
  {
   "cell_type": "code",
   "execution_count": 17,
   "metadata": {},
   "outputs": [
    {
     "name": "stdout",
     "output_type": "stream",
     "text": [
      "Confusion Matrix Without PCA\n",
      "Raw confusion matrix: \n",
      "[[19  1  0]\n",
      " [ 0 22  0]\n",
      " [ 0  0 17]]\n",
      "[[0.95 0.05 0.  ]\n",
      " [0.   1.   0.  ]\n",
      " [0.   0.   1.  ]]\n"
     ]
    },
    {
     "data": {
      "image/png": "[encoded data removed]",
      "text/plain": [
       "<Figure size 432x288 with 2 Axes>"
      ]
     },
     "metadata": {},
     "output_type": "display_data"
    }
   ],
   "source": [
    "pred_y_raw = raw_lr_model.fit(X[train_indices], y[train_indices]).predict(X[test_indices])\n",
    "print(\"Confusion Matrix Without PCA\")\n",
    "print(\"Raw confusion matrix: \")\n",
    "cm1 = confusion_matrix(y[test_indices], pred_y_raw)\n",
    "print(cm1)\n",
    "plot_confusion_matrix(cm1, class_names, normalize = True)"
   ]
  },
  {
   "cell_type": "code",
   "execution_count": 18,
   "metadata": {},
   "outputs": [
    {
     "name": "stdout",
     "output_type": "stream",
     "text": [
      "Confusion Matrix With PCA\n",
      "Raw confusion matrix: \n",
      "[[20  0  0]\n",
      " [ 0 22  0]\n",
      " [ 0  0 17]]\n",
      "[[1. 0. 0.]\n",
      " [0. 1. 0.]\n",
      " [0. 0. 1.]]\n"
     ]
    },
    {
     "data": {
      "image/png": "[encoded data removed]",
      "text/plain": [
       "<Figure size 432x288 with 2 Axes>"
      ]
     },
     "metadata": {},
     "output_type": "display_data"
    }
   ],
   "source": [
    "pred_y_raw = pca_lr_model.fit(X[train_indices], y[train_indices]).predict(X[test_indices])\n",
    "print(\"Confusion Matrix With PCA\")\n",
    "print(\"Raw confusion matrix: \")\n",
    "cm1 = confusion_matrix(y[test_indices], pred_y_raw)\n",
    "print(cm1)\n",
    "plot_confusion_matrix(cm1, class_names, normalize = True)"
   ]
  },
  {
   "cell_type": "code",
   "execution_count": 19,
   "metadata": {},
   "outputs": [
    {
     "name": "stdout",
     "output_type": "stream",
     "text": [
      "Confusion Matrix With 8 PCAs\n",
      "Raw confusion matrix: \n",
      "[[20  0  0]\n",
      " [ 0 22  0]\n",
      " [ 0  0 17]]\n",
      "[[1. 0. 0.]\n",
      " [0. 1. 0.]\n",
      " [0. 0. 1.]]\n"
     ]
    },
    {
     "data": {
      "image/png": "[encoded data removed]",
      "text/plain": [
       "<Figure size 432x288 with 2 Axes>"
      ]
     },
     "metadata": {},
     "output_type": "display_data"
    }
   ],
   "source": [
    "pred_y_raw = pca8_lr_model.fit(X[train_indices], y[train_indices]).predict(X[test_indices])\n",
    "print(\"Confusion Matrix With 8 PCAs\")\n",
    "print(\"Raw confusion matrix: \")\n",
    "cm1 = confusion_matrix(y[test_indices], pred_y_raw)\n",
    "print(cm1)\n",
    "plot_confusion_matrix(cm1, class_names, normalize = True)"
   ]
  },
  {
   "cell_type": "code",
   "execution_count": 20,
   "metadata": {},
   "outputs": [
    {
     "name": "stdout",
     "output_type": "stream",
     "text": [
      "Confusion Matrix With 4 PCAs\n",
      "Raw confusion matrix: \n",
      "[[20  0  0]\n",
      " [ 1 21  0]\n",
      " [ 0  0 17]]\n",
      "[[1.         0.         0.        ]\n",
      " [0.04545455 0.95454545 0.        ]\n",
      " [0.         0.         1.        ]]\n"
     ]
    },
    {
     "data": {
      "image/png": "[encoded data removed]",
      "text/plain": [
       "<Figure size 432x288 with 2 Axes>"
      ]
     },
     "metadata": {},
     "output_type": "display_data"
    }
   ],
   "source": [
    "pred_y_raw = pca4_lr_model.fit(X[train_indices], y[train_indices]).predict(X[test_indices])\n",
    "print(\"Confusion Matrix With 4 PCAs\")\n",
    "print(\"Raw confusion matrix: \")\n",
    "cm1 = confusion_matrix(y[test_indices], pred_y_raw)\n",
    "print(cm1)\n",
    "plot_confusion_matrix(cm1, class_names, normalize = True)"
   ]
  },
  {
   "cell_type": "code",
   "execution_count": null,
   "metadata": {},
   "outputs": [],
   "source": []
  }
 ],
 "metadata": {
  "kernelspec": {
   "display_name": "Python 3",
   "language": "python",
   "name": "python3"
  },
  "language_info": {
   "codemirror_mode": {
    "name": "ipython",
    "version": 3
   },
   "file_extension": ".py",
   "mimetype": "text/x-python",
   "name": "python",
   "nbconvert_exporter": "python",
   "pygments_lexer": "ipython3",
   "version": "3.6.5"
  }
 },
 "nbformat": 4,
 "nbformat_minor": 2
}
