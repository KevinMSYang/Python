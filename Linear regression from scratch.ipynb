{
 "cells": [
  {
   "cell_type": "markdown",
   "metadata": {},
   "source": [
    "<b>Homework02-Linear regression from scratch\n",
    ">Kevin Yang 50541650"
   ]
  },
  {
   "cell_type": "code",
   "execution_count": 1,
   "metadata": {},
   "outputs": [],
   "source": [
    "import numpy as np\n",
    "from numpy.linalg import inv\n",
    "import matplotlib.pyplot as plt\n",
    "np.random.seed(2019)"
   ]
  },
  {
   "cell_type": "code",
   "execution_count": 2,
   "metadata": {},
   "outputs": [],
   "source": [
    "def linear_function(x, m=1, b=0):\n",
    "    return m * float(x) +b"
   ]
  },
  {
   "cell_type": "code",
   "execution_count": 3,
   "metadata": {},
   "outputs": [],
   "source": [
    "def gaussian_noise(mu=0, sigma=1):\n",
    "    return np.random.normal(mu, sigma)"
   ]
  },
  {
   "cell_type": "code",
   "execution_count": 4,
   "metadata": {},
   "outputs": [],
   "source": [
    "def zero():\n",
    "    return 0"
   ]
  },
  {
   "cell_type": "code",
   "execution_count": 5,
   "metadata": {},
   "outputs": [],
   "source": [
    "def add_noise(values, **args):\n",
    "    return np.apply_along_axis(lambda x: x+ gaussian_noise(**args), 0, values)"
   ]
  },
  {
   "cell_type": "code",
   "execution_count": 6,
   "metadata": {},
   "outputs": [],
   "source": [
    "f1 = lambda x: linear_function(x, 0.8, -1.7)"
   ]
  },
  {
   "cell_type": "code",
   "execution_count": 7,
   "metadata": {},
   "outputs": [],
   "source": [
    "X = np.array([i for i in range(1,201)])"
   ]
  },
  {
   "cell_type": "code",
   "execution_count": 8,
   "metadata": {},
   "outputs": [],
   "source": [
    "np.random.shuffle(X)"
   ]
  },
  {
   "cell_type": "code",
   "execution_count": 9,
   "metadata": {},
   "outputs": [],
   "source": [
    "y_clean = np.array([f1(x) for x in X], dtype = float)\n",
    "noise = np.random.normal(scale=4, size=(len(y_clean),))\n",
    "y = y_clean + noise"
   ]
  },
  {
   "cell_type": "code",
   "execution_count": 10,
   "metadata": {},
   "outputs": [
    {
     "data": {
      "image/png": "[encoded data removed]",
      "text/plain": [
       "<Figure size 432x288 with 1 Axes>"
      ]
     },
     "metadata": {},
     "output_type": "display_data"
    }
   ],
   "source": [
    "plt.scatter(X,y, color='blue', s=2)\n",
    "plt.scatter(X,y_clean, color='red', s=3)\n",
    "plt.show()"
   ]
  },
  {
   "cell_type": "code",
   "execution_count": 11,
   "metadata": {},
   "outputs": [],
   "source": [
    "sum_x = 0\n",
    "sum_squ = 0\n",
    "rt = 0\n",
    "rt_xt = 0\n",
    "i = 0\n",
    "for i in range(X.size):\n",
    "    sum_x = sum_x + X[i]\n",
    "    sum_squ = sum_squ + (X[i] * X[i])\n",
    "    rt = rt + y[i]\n",
    "    rt_xt = rt_xt + X[i]* y[i]"
   ]
  },
  {
   "cell_type": "code",
   "execution_count": 12,
   "metadata": {},
   "outputs": [
    {
     "name": "stdout",
     "output_type": "stream",
     "text": [
      "[[-1.68834462]\n",
      " [ 0.79606961]]\n"
     ]
    }
   ],
   "source": [
    "A = np.array([[X.size, sum_x],[sum_x, sum_squ]])\n",
    "Y = np.array([[rt],[rt_xt]])\n",
    "Ainv = inv(A)\n",
    "W = np.dot(Ainv, Y)\n",
    "print(W)"
   ]
  },
  {
   "cell_type": "code",
   "execution_count": 13,
   "metadata": {},
   "outputs": [],
   "source": [
    "y_pred = np.zeros(X.shape)\n",
    "for i in range(len(X)):\n",
    "    y_pred[i] = W[1] * X[i] + W[0]"
   ]
  },
  {
   "cell_type": "code",
   "execution_count": 14,
   "metadata": {},
   "outputs": [
    {
     "name": "stdout",
     "output_type": "stream",
     "text": [
      "14.760249583431278\n"
     ]
    }
   ],
   "source": [
    "tem_result = 0\n",
    "i = 0\n",
    "for i in range(X.size):\n",
    "    tem_result = tem_result + ((y[i]-y_pred[i])*(y[i]-y_pred[i]))\n",
    "\n",
    "MSE = tem_result /200\n",
    "print(MSE)"
   ]
  },
  {
   "cell_type": "code",
   "execution_count": 15,
   "metadata": {},
   "outputs": [
    {
     "name": "stdout",
     "output_type": "stream",
     "text": [
      "9.059412021476763\n"
     ]
    }
   ],
   "source": [
    "tem_result1 = 0\n",
    "i = 0\n",
    "for i in range(X.size):\n",
    "    tem_result1 = tem_result1 + ((y[i]-y_pred[i])/y[i])\n",
    "    \n",
    "MPE = tem_result1 * 100/ 200\n",
    "print(MPE)"
   ]
  },
  {
   "cell_type": "code",
   "execution_count": 16,
   "metadata": {},
   "outputs": [
    {
     "name": "stdout",
     "output_type": "stream",
     "text": [
      "0.9930609561921012\n"
     ]
    }
   ],
   "source": [
    "SSres = tem_result\n",
    "avg_y = 0\n",
    "i = 0\n",
    "for i in range(X.size):\n",
    "    avg_y = avg_y + y[i]\n",
    "    \n",
    "    \n",
    "avg_y = avg_y / X.size\n",
    "tem = 0\n",
    "i = 0\n",
    "for i in range(X.size):\n",
    "    tem = tem + ((y[i]-avg_y)*(y[i]-avg_y))\n",
    "\n",
    "SStot = tem\n",
    "\n",
    "R2 = 1 - (SSres / SStot)\n",
    "print(R2)"
   ]
  },
  {
   "cell_type": "code",
   "execution_count": null,
   "metadata": {},
   "outputs": [],
   "source": []
  },
  {
   "cell_type": "code",
   "execution_count": null,
   "metadata": {},
   "outputs": [],
   "source": []
  }
 ],
 "metadata": {
  "kernelspec": {
   "display_name": "Python 3",
   "language": "python",
   "name": "python3"
  },
  "language_info": {
   "codemirror_mode": {
    "name": "ipython",
    "version": 3
   },
   "file_extension": ".py",
   "mimetype": "text/x-python",
   "name": "python",
   "nbconvert_exporter": "python",
   "pygments_lexer": "ipython3",
   "version": "3.6.5"
  }
 },
 "nbformat": 4,
 "nbformat_minor": 2
}
